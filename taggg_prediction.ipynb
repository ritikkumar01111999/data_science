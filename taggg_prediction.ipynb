{
  "nbformat": 4,
  "nbformat_minor": 0,
  "metadata": {
    "colab": {
      "name": "tag_prediction.ipynb",
      "provenance": [],
      "collapsed_sections": [],
      "include_colab_link": true
    },
    "kernelspec": {
      "display_name": "Python 3",
      "name": "python3"
    },
    "language_info": {
      "name": "python"
    }
  },
  "cells": [
    {
      "cell_type": "markdown",
      "metadata": {
        "id": "view-in-github",
        "colab_type": "text"
      },
      "source": [
        "<a href=\"https://colab.research.google.com/github/ritikkumar01111999/data_science/blob/main/taggg_prediction.ipynb\" target=\"_parent\"><img src=\"https://colab.research.google.com/assets/colab-badge.svg\" alt=\"Open In Colab\"/></a>"
      ]
    },
    {
      "cell_type": "code",
      "metadata": {
        "id": "VHxpL5-QlpLZ"
      },
      "source": [
        "import pandas as pd\n",
        "import numpy as np\n",
        "\n",
        "\n",
        "import matplotlib.pyplot as plt\n",
        "import seaborn as sns\n",
        "\n",
        "import warnings\n",
        "\n",
        "import pickle\n",
        "import time\n",
        "\n",
        "import re\n",
        "from bs4 import BeautifulSoup\n",
        "import nltk\n",
        "from nltk.tokenize import ToktokTokenizer\n",
        "from nltk.stem.wordnet import WordNetLemmatizer\n",
        "from nltk.corpus import stopwords\n",
        "from string import punctuation\n",
        "\n",
        "from sklearn.feature_extraction.text import TfidfVectorizer\n",
        "from sklearn.preprocessing import MultiLabelBinarizer\n",
        "from sklearn.model_selection import train_test_split\n",
        "from sklearn.model_selection import learning_curve\n",
        "from sklearn.dummy import DummyClassifier\n",
        "from sklearn.naive_bayes import MultinomialNB\n",
        "from sklearn.linear_model import SGDClassifier\n",
        "from sklearn.linear_model import LogisticRegression\n",
        "from sklearn.multiclass import OneVsRestClassifier\n",
        "from sklearn.svm import LinearSVC\n",
        "from sklearn.linear_model import Perceptron\n",
        "from sklearn.linear_model import PassiveAggressiveClassifier\n",
        "from sklearn.neural_network import MLPClassifier\n",
        "from sklearn.ensemble import RandomForestClassifier\n",
        "from sklearn import model_selection\n",
        "from sklearn.metrics import confusion_matrix\n",
        "from sklearn.metrics import hamming_loss\n",
        "import sklearn.metrics as skm\n",
        "\n",
        "\n",
        "warnings.filterwarnings(\"ignore\")"
      ],
      "execution_count": 1,
      "outputs": []
    },
    {
      "cell_type": "code",
      "metadata": {
        "colab": {
          "resources": {
            "http://localhost:8080/nbextensions/google.colab/files.js": {
              "data": "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",
              "ok": true,
              "headers": [
                [
                  "content-type",
                  "application/javascript"
                ]
              ],
              "status": 200,
              "status_text": ""
            }
          },
          "base_uri": "https://localhost:8080/",
          "height": 72
        },
        "id": "YUpIvDYLNcYo",
        "outputId": "c54173e4-3803-4f85-cfe4-1b91872bddfe"
      },
      "source": [
        "from google.colab import files\n",
        "\n",
        "uploaded = files.upload()"
      ],
      "execution_count": 2,
      "outputs": [
        {
          "output_type": "display_data",
          "data": {
            "text/html": [
              "\n",
              "     <input type=\"file\" id=\"files-79e9bef5-309c-429e-b58b-8de037e455aa\" name=\"files[]\" multiple disabled\n",
              "        style=\"border:none\" />\n",
              "     <output id=\"result-79e9bef5-309c-429e-b58b-8de037e455aa\">\n",
              "      Upload widget is only available when the cell has been executed in the\n",
              "      current browser session. Please rerun this cell to enable.\n",
              "      </output>\n",
              "      <script src=\"/nbextensions/google.colab/files.js\"></script> "
            ],
            "text/plain": [
              "<IPython.core.display.HTML object>"
            ]
          },
          "metadata": {}
        },
        {
          "output_type": "stream",
          "name": "stdout",
          "text": [
            "Saving data.csv to data.csv\n"
          ]
        }
      ]
    },
    {
      "cell_type": "code",
      "metadata": {
        "colab": {
          "base_uri": "https://localhost:8080/",
          "height": 359
        },
        "id": "cRvQWApTmFva",
        "outputId": "00d8c73d-2204-4393-9a47-296b3e5ae600"
      },
      "source": [
        "#data = pd.read_csv(\"/content/drive/MyDrive/data___/data.csv\")\n",
        "import pandas as pd\n",
        "data=pd.read_csv('/content/data.csv')\n",
        "data.head(10)"
      ],
      "execution_count": 3,
      "outputs": [
        {
          "output_type": "execute_result",
          "data": {
            "text/html": [
              "<div>\n",
              "<style scoped>\n",
              "    .dataframe tbody tr th:only-of-type {\n",
              "        vertical-align: middle;\n",
              "    }\n",
              "\n",
              "    .dataframe tbody tr th {\n",
              "        vertical-align: top;\n",
              "    }\n",
              "\n",
              "    .dataframe thead th {\n",
              "        text-align: right;\n",
              "    }\n",
              "</style>\n",
              "<table border=\"1\" class=\"dataframe\">\n",
              "  <thead>\n",
              "    <tr style=\"text-align: right;\">\n",
              "      <th></th>\n",
              "      <th>Unnamed: 0</th>\n",
              "      <th>tags</th>\n",
              "      <th>description</th>\n",
              "    </tr>\n",
              "  </thead>\n",
              "  <tbody>\n",
              "    <tr>\n",
              "      <th>0</th>\n",
              "      <td>0</td>\n",
              "      <td>licence-needed supervising-job 5-plus-years-ex...</td>\n",
              "      <td>THE COMPANY    Employer is a midstream service...</td>\n",
              "    </tr>\n",
              "    <tr>\n",
              "      <th>1</th>\n",
              "      <td>1</td>\n",
              "      <td>2-4-years-experience-needed salary full-time-job</td>\n",
              "      <td>ICR Staffing is now accepting resumes for Indu...</td>\n",
              "    </tr>\n",
              "    <tr>\n",
              "      <th>2</th>\n",
              "      <td>2</td>\n",
              "      <td>part-time-job</td>\n",
              "      <td>This is a great position for the right person....</td>\n",
              "    </tr>\n",
              "    <tr>\n",
              "      <th>3</th>\n",
              "      <td>3</td>\n",
              "      <td>licence-needed</td>\n",
              "      <td>A large multi-specialty health center is expan...</td>\n",
              "    </tr>\n",
              "    <tr>\n",
              "      <th>4</th>\n",
              "      <td>4</td>\n",
              "      <td>5-plus-years-experience-needed full-time-job b...</td>\n",
              "      <td>JOB PURPOSE:    The Account Director is respon...</td>\n",
              "    </tr>\n",
              "    <tr>\n",
              "      <th>5</th>\n",
              "      <td>5</td>\n",
              "      <td>associate-needed 5-plus-years-experience-needed</td>\n",
              "      <td>At Cottage Health System, our facilities are s...</td>\n",
              "    </tr>\n",
              "    <tr>\n",
              "      <th>6</th>\n",
              "      <td>6</td>\n",
              "      <td>full-time-job ms-or-phd-needed 5-plus-years-ex...</td>\n",
              "      <td>*E Learning Instructional Designer with at lea...</td>\n",
              "    </tr>\n",
              "    <tr>\n",
              "      <th>7</th>\n",
              "      <td>7</td>\n",
              "      <td>bs-degree-needed 5-plus-years-experience-needed</td>\n",
              "      <td>Sales and Service Representative    SAF-Hollan...</td>\n",
              "    </tr>\n",
              "    <tr>\n",
              "      <th>8</th>\n",
              "      <td>8</td>\n",
              "      <td>bs-degree-needed 2-4-years-experience-needed</td>\n",
              "      <td>SAF-Holland, Inc. is currently seeking an Inte...</td>\n",
              "    </tr>\n",
              "    <tr>\n",
              "      <th>9</th>\n",
              "      <td>9</td>\n",
              "      <td>full-time-job hourly-wage</td>\n",
              "      <td>Immediate opening for full time staffing coord...</td>\n",
              "    </tr>\n",
              "  </tbody>\n",
              "</table>\n",
              "</div>"
            ],
            "text/plain": [
              "   Unnamed: 0  ...                                        description\n",
              "0           0  ...  THE COMPANY    Employer is a midstream service...\n",
              "1           1  ...  ICR Staffing is now accepting resumes for Indu...\n",
              "2           2  ...  This is a great position for the right person....\n",
              "3           3  ...  A large multi-specialty health center is expan...\n",
              "4           4  ...  JOB PURPOSE:    The Account Director is respon...\n",
              "5           5  ...  At Cottage Health System, our facilities are s...\n",
              "6           6  ...  *E Learning Instructional Designer with at lea...\n",
              "7           7  ...  Sales and Service Representative    SAF-Hollan...\n",
              "8           8  ...  SAF-Holland, Inc. is currently seeking an Inte...\n",
              "9           9  ...  Immediate opening for full time staffing coord...\n",
              "\n",
              "[10 rows x 3 columns]"
            ]
          },
          "metadata": {},
          "execution_count": 3
        }
      ]
    },
    {
      "cell_type": "code",
      "metadata": {
        "colab": {
          "base_uri": "https://localhost:8080/",
          "height": 204
        },
        "id": "6R8goL0ZmHm6",
        "outputId": "a7166b6e-9939-492b-992c-cb224c12fd27"
      },
      "source": [
        "data.head()"
      ],
      "execution_count": 4,
      "outputs": [
        {
          "output_type": "execute_result",
          "data": {
            "text/html": [
              "<div>\n",
              "<style scoped>\n",
              "    .dataframe tbody tr th:only-of-type {\n",
              "        vertical-align: middle;\n",
              "    }\n",
              "\n",
              "    .dataframe tbody tr th {\n",
              "        vertical-align: top;\n",
              "    }\n",
              "\n",
              "    .dataframe thead th {\n",
              "        text-align: right;\n",
              "    }\n",
              "</style>\n",
              "<table border=\"1\" class=\"dataframe\">\n",
              "  <thead>\n",
              "    <tr style=\"text-align: right;\">\n",
              "      <th></th>\n",
              "      <th>Unnamed: 0</th>\n",
              "      <th>tags</th>\n",
              "      <th>description</th>\n",
              "    </tr>\n",
              "  </thead>\n",
              "  <tbody>\n",
              "    <tr>\n",
              "      <th>0</th>\n",
              "      <td>0</td>\n",
              "      <td>licence-needed supervising-job 5-plus-years-ex...</td>\n",
              "      <td>THE COMPANY    Employer is a midstream service...</td>\n",
              "    </tr>\n",
              "    <tr>\n",
              "      <th>1</th>\n",
              "      <td>1</td>\n",
              "      <td>2-4-years-experience-needed salary full-time-job</td>\n",
              "      <td>ICR Staffing is now accepting resumes for Indu...</td>\n",
              "    </tr>\n",
              "    <tr>\n",
              "      <th>2</th>\n",
              "      <td>2</td>\n",
              "      <td>part-time-job</td>\n",
              "      <td>This is a great position for the right person....</td>\n",
              "    </tr>\n",
              "    <tr>\n",
              "      <th>3</th>\n",
              "      <td>3</td>\n",
              "      <td>licence-needed</td>\n",
              "      <td>A large multi-specialty health center is expan...</td>\n",
              "    </tr>\n",
              "    <tr>\n",
              "      <th>4</th>\n",
              "      <td>4</td>\n",
              "      <td>5-plus-years-experience-needed full-time-job b...</td>\n",
              "      <td>JOB PURPOSE:    The Account Director is respon...</td>\n",
              "    </tr>\n",
              "  </tbody>\n",
              "</table>\n",
              "</div>"
            ],
            "text/plain": [
              "   Unnamed: 0  ...                                        description\n",
              "0           0  ...  THE COMPANY    Employer is a midstream service...\n",
              "1           1  ...  ICR Staffing is now accepting resumes for Indu...\n",
              "2           2  ...  This is a great position for the right person....\n",
              "3           3  ...  A large multi-specialty health center is expan...\n",
              "4           4  ...  JOB PURPOSE:    The Account Director is respon...\n",
              "\n",
              "[5 rows x 3 columns]"
            ]
          },
          "metadata": {},
          "execution_count": 4
        }
      ]
    },
    {
      "cell_type": "code",
      "metadata": {
        "id": "NrIH7uxemIeB"
      },
      "source": [
        "data.drop(columns=['Unnamed: 0'], inplace=True)"
      ],
      "execution_count": 5,
      "outputs": []
    },
    {
      "cell_type": "code",
      "metadata": {
        "colab": {
          "base_uri": "https://localhost:8080/",
          "height": 204
        },
        "id": "RWH2HuwEmMsM",
        "outputId": "0a5265fe-df73-46af-dfec-6ead0175d2e4"
      },
      "source": [
        "data.head()"
      ],
      "execution_count": 6,
      "outputs": [
        {
          "output_type": "execute_result",
          "data": {
            "text/html": [
              "<div>\n",
              "<style scoped>\n",
              "    .dataframe tbody tr th:only-of-type {\n",
              "        vertical-align: middle;\n",
              "    }\n",
              "\n",
              "    .dataframe tbody tr th {\n",
              "        vertical-align: top;\n",
              "    }\n",
              "\n",
              "    .dataframe thead th {\n",
              "        text-align: right;\n",
              "    }\n",
              "</style>\n",
              "<table border=\"1\" class=\"dataframe\">\n",
              "  <thead>\n",
              "    <tr style=\"text-align: right;\">\n",
              "      <th></th>\n",
              "      <th>tags</th>\n",
              "      <th>description</th>\n",
              "    </tr>\n",
              "  </thead>\n",
              "  <tbody>\n",
              "    <tr>\n",
              "      <th>0</th>\n",
              "      <td>licence-needed supervising-job 5-plus-years-ex...</td>\n",
              "      <td>THE COMPANY    Employer is a midstream service...</td>\n",
              "    </tr>\n",
              "    <tr>\n",
              "      <th>1</th>\n",
              "      <td>2-4-years-experience-needed salary full-time-job</td>\n",
              "      <td>ICR Staffing is now accepting resumes for Indu...</td>\n",
              "    </tr>\n",
              "    <tr>\n",
              "      <th>2</th>\n",
              "      <td>part-time-job</td>\n",
              "      <td>This is a great position for the right person....</td>\n",
              "    </tr>\n",
              "    <tr>\n",
              "      <th>3</th>\n",
              "      <td>licence-needed</td>\n",
              "      <td>A large multi-specialty health center is expan...</td>\n",
              "    </tr>\n",
              "    <tr>\n",
              "      <th>4</th>\n",
              "      <td>5-plus-years-experience-needed full-time-job b...</td>\n",
              "      <td>JOB PURPOSE:    The Account Director is respon...</td>\n",
              "    </tr>\n",
              "  </tbody>\n",
              "</table>\n",
              "</div>"
            ],
            "text/plain": [
              "                                                tags                                        description\n",
              "0  licence-needed supervising-job 5-plus-years-ex...  THE COMPANY    Employer is a midstream service...\n",
              "1   2-4-years-experience-needed salary full-time-job  ICR Staffing is now accepting resumes for Indu...\n",
              "2                                      part-time-job  This is a great position for the right person....\n",
              "3                                     licence-needed  A large multi-specialty health center is expan...\n",
              "4  5-plus-years-experience-needed full-time-job b...  JOB PURPOSE:    The Account Director is respon..."
            ]
          },
          "metadata": {},
          "execution_count": 6
        }
      ]
    },
    {
      "cell_type": "code",
      "metadata": {
        "colab": {
          "base_uri": "https://localhost:8080/"
        },
        "id": "DAgcD5LLmWJV",
        "outputId": "f6559c12-75ef-42a3-f54b-68185b1ba831"
      },
      "source": [
        "data.shape"
      ],
      "execution_count": 7,
      "outputs": [
        {
          "output_type": "execute_result",
          "data": {
            "text/plain": [
              "(4375, 2)"
            ]
          },
          "metadata": {},
          "execution_count": 7
        }
      ]
    },
    {
      "cell_type": "markdown",
      "metadata": {
        "id": "UkRiMdH_mfRa"
      },
      "source": [
        "## Checkpoint"
      ]
    },
    {
      "cell_type": "code",
      "metadata": {
        "colab": {
          "base_uri": "https://localhost:8080/",
          "height": 204
        },
        "id": "dImDo-GFmdtY",
        "outputId": "c2c18822-ec07-4b74-e46a-f08a9cf57789"
      },
      "source": [
        "df = data.copy()\n",
        "\n",
        "df.head()"
      ],
      "execution_count": 8,
      "outputs": [
        {
          "output_type": "execute_result",
          "data": {
            "text/html": [
              "<div>\n",
              "<style scoped>\n",
              "    .dataframe tbody tr th:only-of-type {\n",
              "        vertical-align: middle;\n",
              "    }\n",
              "\n",
              "    .dataframe tbody tr th {\n",
              "        vertical-align: top;\n",
              "    }\n",
              "\n",
              "    .dataframe thead th {\n",
              "        text-align: right;\n",
              "    }\n",
              "</style>\n",
              "<table border=\"1\" class=\"dataframe\">\n",
              "  <thead>\n",
              "    <tr style=\"text-align: right;\">\n",
              "      <th></th>\n",
              "      <th>tags</th>\n",
              "      <th>description</th>\n",
              "    </tr>\n",
              "  </thead>\n",
              "  <tbody>\n",
              "    <tr>\n",
              "      <th>0</th>\n",
              "      <td>licence-needed supervising-job 5-plus-years-ex...</td>\n",
              "      <td>THE COMPANY    Employer is a midstream service...</td>\n",
              "    </tr>\n",
              "    <tr>\n",
              "      <th>1</th>\n",
              "      <td>2-4-years-experience-needed salary full-time-job</td>\n",
              "      <td>ICR Staffing is now accepting resumes for Indu...</td>\n",
              "    </tr>\n",
              "    <tr>\n",
              "      <th>2</th>\n",
              "      <td>part-time-job</td>\n",
              "      <td>This is a great position for the right person....</td>\n",
              "    </tr>\n",
              "    <tr>\n",
              "      <th>3</th>\n",
              "      <td>licence-needed</td>\n",
              "      <td>A large multi-specialty health center is expan...</td>\n",
              "    </tr>\n",
              "    <tr>\n",
              "      <th>4</th>\n",
              "      <td>5-plus-years-experience-needed full-time-job b...</td>\n",
              "      <td>JOB PURPOSE:    The Account Director is respon...</td>\n",
              "    </tr>\n",
              "  </tbody>\n",
              "</table>\n",
              "</div>"
            ],
            "text/plain": [
              "                                                tags                                        description\n",
              "0  licence-needed supervising-job 5-plus-years-ex...  THE COMPANY    Employer is a midstream service...\n",
              "1   2-4-years-experience-needed salary full-time-job  ICR Staffing is now accepting resumes for Indu...\n",
              "2                                      part-time-job  This is a great position for the right person....\n",
              "3                                     licence-needed  A large multi-specialty health center is expan...\n",
              "4  5-plus-years-experience-needed full-time-job b...  JOB PURPOSE:    The Account Director is respon..."
            ]
          },
          "metadata": {},
          "execution_count": 8
        }
      ]
    },
    {
      "cell_type": "markdown",
      "metadata": {
        "id": "M1ATFgHZmoHg"
      },
      "source": [
        "## Data Cleaning"
      ]
    },
    {
      "cell_type": "code",
      "metadata": {
        "colab": {
          "base_uri": "https://localhost:8080/"
        },
        "id": "I8afFxqfmm3s",
        "outputId": "5436a8b7-564d-4da5-ae9f-c2a0c9842a8e"
      },
      "source": [
        "df.isnull().sum()"
      ],
      "execution_count": 9,
      "outputs": [
        {
          "output_type": "execute_result",
          "data": {
            "text/plain": [
              "tags           871\n",
              "description      0\n",
              "dtype: int64"
            ]
          },
          "metadata": {},
          "execution_count": 9
        }
      ]
    },
    {
      "cell_type": "code",
      "metadata": {
        "id": "EcjJzV0ynTBj"
      },
      "source": [
        "df.dropna(inplace=True)"
      ],
      "execution_count": 10,
      "outputs": []
    },
    {
      "cell_type": "code",
      "metadata": {
        "colab": {
          "base_uri": "https://localhost:8080/"
        },
        "id": "F1fYRGVJnxDh",
        "outputId": "5ac13c5e-5c52-47b6-89dd-efee0deca764"
      },
      "source": [
        "df.isnull().sum()"
      ],
      "execution_count": 11,
      "outputs": [
        {
          "output_type": "execute_result",
          "data": {
            "text/plain": [
              "tags           0\n",
              "description    0\n",
              "dtype: int64"
            ]
          },
          "metadata": {},
          "execution_count": 11
        }
      ]
    },
    {
      "cell_type": "code",
      "metadata": {
        "colab": {
          "base_uri": "https://localhost:8080/"
        },
        "id": "2D19o_KBpA0c",
        "outputId": "00557b73-ac39-486a-ede9-b3ca020c06bd"
      },
      "source": [
        "# load stop words\n",
        "# import nltk\n",
        "nltk.download('stopwords')\n",
        "nltk.download('wordnet')\n",
        "stop_word = stopwords.words('english')"
      ],
      "execution_count": 12,
      "outputs": [
        {
          "output_type": "stream",
          "name": "stdout",
          "text": [
            "[nltk_data] Downloading package stopwords to /root/nltk_data...\n",
            "[nltk_data]   Unzipping corpora/stopwords.zip.\n",
            "[nltk_data] Downloading package wordnet to /root/nltk_data...\n",
            "[nltk_data]   Unzipping corpora/wordnet.zip.\n"
          ]
        }
      ]
    },
    {
      "cell_type": "code",
      "metadata": {
        "id": "1M6H8_AepQtI"
      },
      "source": [
        "def clean(text):\n",
        "    from nltk.corpus import stopwords\n",
        "\n",
        "    #     remove urls\n",
        "    text = re.sub(r'http\\S+', \" \", text)\n",
        "\n",
        "    #     remove mentions\n",
        "    text = re.sub(r'@\\w+',' ',text)\n",
        "\n",
        "    #     remove hastags\n",
        "    text = re.sub(r'#\\w+', ' ', text)\n",
        "\n",
        "    #     remove digits\n",
        "    text = re.sub(r'\\d+', ' ', text)\n",
        "\n",
        "    #     remove html tags\n",
        "    text = re.sub('r<.*?>',' ', text)\n",
        "    \n",
        "    #     remove stop words \n",
        "    text = text.split()\n",
        "    text = \" \".join([word for word in text if not word in stop_word])\n",
        "    \n",
        "      \n",
        "    return text\n"
      ],
      "execution_count": 13,
      "outputs": []
    },
    {
      "cell_type": "code",
      "metadata": {
        "id": "fWwluuOJqBFF"
      },
      "source": [
        "df['description'] = df['description'].apply(lambda x: clean(x))"
      ],
      "execution_count": 14,
      "outputs": []
    },
    {
      "cell_type": "code",
      "metadata": {
        "colab": {
          "base_uri": "https://localhost:8080/",
          "height": 204
        },
        "id": "5xiMSF9AqVqf",
        "outputId": "57d81264-ac08-4961-d636-3c28512155c0"
      },
      "source": [
        "df.head()"
      ],
      "execution_count": 15,
      "outputs": [
        {
          "output_type": "execute_result",
          "data": {
            "text/html": [
              "<div>\n",
              "<style scoped>\n",
              "    .dataframe tbody tr th:only-of-type {\n",
              "        vertical-align: middle;\n",
              "    }\n",
              "\n",
              "    .dataframe tbody tr th {\n",
              "        vertical-align: top;\n",
              "    }\n",
              "\n",
              "    .dataframe thead th {\n",
              "        text-align: right;\n",
              "    }\n",
              "</style>\n",
              "<table border=\"1\" class=\"dataframe\">\n",
              "  <thead>\n",
              "    <tr style=\"text-align: right;\">\n",
              "      <th></th>\n",
              "      <th>tags</th>\n",
              "      <th>description</th>\n",
              "    </tr>\n",
              "  </thead>\n",
              "  <tbody>\n",
              "    <tr>\n",
              "      <th>0</th>\n",
              "      <td>licence-needed supervising-job 5-plus-years-ex...</td>\n",
              "      <td>THE COMPANY Employer midstream service provide...</td>\n",
              "    </tr>\n",
              "    <tr>\n",
              "      <th>1</th>\n",
              "      <td>2-4-years-experience-needed salary full-time-job</td>\n",
              "      <td>ICR Staffing accepting resumes Industrial Main...</td>\n",
              "    </tr>\n",
              "    <tr>\n",
              "      <th>2</th>\n",
              "      <td>part-time-job</td>\n",
              "      <td>This great position right person. HEALTHCAREse...</td>\n",
              "    </tr>\n",
              "    <tr>\n",
              "      <th>3</th>\n",
              "      <td>licence-needed</td>\n",
              "      <td>A large multi-specialty health center expandin...</td>\n",
              "    </tr>\n",
              "    <tr>\n",
              "      <th>4</th>\n",
              "      <td>5-plus-years-experience-needed full-time-job b...</td>\n",
              "      <td>JOB PURPOSE: The Account Director responsible ...</td>\n",
              "    </tr>\n",
              "  </tbody>\n",
              "</table>\n",
              "</div>"
            ],
            "text/plain": [
              "                                                tags                                        description\n",
              "0  licence-needed supervising-job 5-plus-years-ex...  THE COMPANY Employer midstream service provide...\n",
              "1   2-4-years-experience-needed salary full-time-job  ICR Staffing accepting resumes Industrial Main...\n",
              "2                                      part-time-job  This great position right person. HEALTHCAREse...\n",
              "3                                     licence-needed  A large multi-specialty health center expandin...\n",
              "4  5-plus-years-experience-needed full-time-job b...  JOB PURPOSE: The Account Director responsible ..."
            ]
          },
          "metadata": {},
          "execution_count": 15
        }
      ]
    },
    {
      "cell_type": "markdown",
      "metadata": {
        "id": "BErRGrIXq_KP"
      },
      "source": [
        "## tags"
      ]
    },
    {
      "cell_type": "code",
      "metadata": {
        "id": "rTovxXChwkKi"
      },
      "source": [
        "# split tags in space\n",
        "df['new_tags'] = df[\"tags\"].apply(lambda x: x.split())"
      ],
      "execution_count": 16,
      "outputs": []
    },
    {
      "cell_type": "code",
      "metadata": {
        "id": "Tt4s7fi3qtMl"
      },
      "source": [
        "# add all tags\n",
        "all_tags = [item for sublist in df['new_tags'].values for item in sublist]"
      ],
      "execution_count": 17,
      "outputs": []
    },
    {
      "cell_type": "code",
      "metadata": {
        "colab": {
          "base_uri": "https://localhost:8080/"
        },
        "id": "7t7ZcF9JrCuf",
        "outputId": "14932b85-ad51-4cfe-9be9-ae0f1b8ca52c"
      },
      "source": [
        "len(all_tags)"
      ],
      "execution_count": 18,
      "outputs": [
        {
          "output_type": "execute_result",
          "data": {
            "text/plain": [
              "6880"
            ]
          },
          "metadata": {},
          "execution_count": 18
        }
      ]
    },
    {
      "cell_type": "code",
      "metadata": {
        "colab": {
          "base_uri": "https://localhost:8080/"
        },
        "id": "pz-kIZRr8Q1U",
        "outputId": "9d3aa451-38dc-44fe-c410-4e8fa023f4da"
      },
      "source": [
        "all_tags"
      ],
      "execution_count": 19,
      "outputs": [
        {
          "output_type": "execute_result",
          "data": {
            "text/plain": [
              "['licence-needed',\n",
              " 'supervising-job',\n",
              " '5-plus-years-experience-needed',\n",
              " '2-4-years-experience-needed',\n",
              " 'salary',\n",
              " 'full-time-job',\n",
              " 'part-time-job',\n",
              " 'licence-needed',\n",
              " '5-plus-years-experience-needed',\n",
              " 'full-time-job',\n",
              " 'bs-degree-needed',\n",
              " 'supervising-job',\n",
              " 'associate-needed',\n",
              " '5-plus-years-experience-needed',\n",
              " 'full-time-job',\n",
              " 'ms-or-phd-needed',\n",
              " '5-plus-years-experience-needed',\n",
              " 'bs-degree-needed',\n",
              " '5-plus-years-experience-needed',\n",
              " 'bs-degree-needed',\n",
              " '2-4-years-experience-needed',\n",
              " 'full-time-job',\n",
              " 'hourly-wage',\n",
              " 'licence-needed',\n",
              " '2-4-years-experience-needed',\n",
              " 'full-time-job',\n",
              " 'hourly-wage',\n",
              " 'bs-degree-needed',\n",
              " '2-4-years-experience-needed',\n",
              " 'hourly-wage',\n",
              " 'bs-degree-needed',\n",
              " '2-4-years-experience-needed',\n",
              " 'full-time-job',\n",
              " 'salary',\n",
              " 'bs-degree-needed',\n",
              " '2-4-years-experience-needed',\n",
              " '5-plus-years-experience-needed',\n",
              " 'bs-degree-needed',\n",
              " 'supervising-job',\n",
              " '1-year-experience-needed',\n",
              " '2-4-years-experience-needed',\n",
              " 'salary',\n",
              " '2-4-years-experience-needed',\n",
              " 'bs-degree-needed',\n",
              " '2-4-years-experience-needed',\n",
              " 'associate-needed',\n",
              " 'licence-needed',\n",
              " 'part-time-job',\n",
              " 'salary',\n",
              " '2-4-years-experience-needed',\n",
              " 'licence-needed',\n",
              " 'full-time-job',\n",
              " '2-4-years-experience-needed',\n",
              " 'bs-degree-needed',\n",
              " '5-plus-years-experience-needed',\n",
              " 'licence-needed',\n",
              " 'salary',\n",
              " 'hourly-wage',\n",
              " 'licence-needed',\n",
              " 'salary',\n",
              " '1-year-experience-needed',\n",
              " 'hourly-wage',\n",
              " '5-plus-years-experience-needed',\n",
              " 'bs-degree-needed',\n",
              " 'supervising-job',\n",
              " 'licence-needed',\n",
              " '2-4-years-experience-needed',\n",
              " 'bs-degree-needed',\n",
              " 'supervising-job',\n",
              " 'supervising-job',\n",
              " '2-4-years-experience-needed',\n",
              " 'salary',\n",
              " 'supervising-job',\n",
              " 'hourly-wage',\n",
              " 'part-time-job',\n",
              " 'full-time-job',\n",
              " 'bs-degree-needed',\n",
              " '2-4-years-experience-needed',\n",
              " 'part-time-job',\n",
              " 'full-time-job',\n",
              " 'associate-needed',\n",
              " '2-4-years-experience-needed',\n",
              " 'bs-degree-needed',\n",
              " 'hourly-wage',\n",
              " 'part-time-job',\n",
              " 'bs-degree-needed',\n",
              " 'full-time-job',\n",
              " '1-year-experience-needed',\n",
              " 'licence-needed',\n",
              " 'hourly-wage',\n",
              " 'full-time-job',\n",
              " 'bs-degree-needed',\n",
              " 'full-time-job',\n",
              " 'hourly-wage',\n",
              " 'licence-needed',\n",
              " 'part-time-job',\n",
              " 'associate-needed',\n",
              " 'full-time-job',\n",
              " '2-4-years-experience-needed',\n",
              " 'salary',\n",
              " 'bs-degree-needed',\n",
              " 'hourly-wage',\n",
              " 'full-time-job',\n",
              " 'hourly-wage',\n",
              " '2-4-years-experience-needed',\n",
              " '2-4-years-experience-needed',\n",
              " 'salary',\n",
              " '2-4-years-experience-needed',\n",
              " 'salary',\n",
              " 'full-time-job',\n",
              " '2-4-years-experience-needed',\n",
              " '2-4-years-experience-needed',\n",
              " 'salary',\n",
              " 'licence-needed',\n",
              " 'salary',\n",
              " '2-4-years-experience-needed',\n",
              " 'hourly-wage',\n",
              " 'part-time-job',\n",
              " 'full-time-job',\n",
              " 'licence-needed',\n",
              " 'bs-degree-needed',\n",
              " '2-4-years-experience-needed',\n",
              " 'part-time-job',\n",
              " 'supervising-job',\n",
              " '5-plus-years-experience-needed',\n",
              " 'supervising-job',\n",
              " 'bs-degree-needed',\n",
              " '5-plus-years-experience-needed',\n",
              " '5-plus-years-experience-needed',\n",
              " 'bs-degree-needed',\n",
              " 'supervising-job',\n",
              " 'bs-degree-needed',\n",
              " 'associate-needed',\n",
              " 'supervising-job',\n",
              " '1-year-experience-needed',\n",
              " '5-plus-years-experience-needed',\n",
              " 'hourly-wage',\n",
              " 'bs-degree-needed',\n",
              " 'supervising-job',\n",
              " '5-plus-years-experience-needed',\n",
              " 'full-time-job',\n",
              " 'hourly-wage',\n",
              " '2-4-years-experience-needed',\n",
              " 'bs-degree-needed',\n",
              " '2-4-years-experience-needed',\n",
              " 'supervising-job',\n",
              " 'full-time-job',\n",
              " 'associate-needed',\n",
              " 'hourly-wage',\n",
              " 'salary',\n",
              " 'bs-degree-needed',\n",
              " 'licence-needed',\n",
              " '2-4-years-experience-needed',\n",
              " 'salary',\n",
              " 'supervising-job',\n",
              " 'bs-degree-needed',\n",
              " '5-plus-years-experience-needed',\n",
              " 'licence-needed',\n",
              " '5-plus-years-experience-needed',\n",
              " 'bs-degree-needed',\n",
              " 'full-time-job',\n",
              " '1-year-experience-needed',\n",
              " '1-year-experience-needed',\n",
              " 'bs-degree-needed',\n",
              " 'supervising-job',\n",
              " 'salary',\n",
              " '2-4-years-experience-needed',\n",
              " 'supervising-job',\n",
              " 'bs-degree-needed',\n",
              " 'associate-needed',\n",
              " 'full-time-job',\n",
              " 'salary',\n",
              " '2-4-years-experience-needed',\n",
              " 'full-time-job',\n",
              " 'licence-needed',\n",
              " 'full-time-job',\n",
              " '2-4-years-experience-needed',\n",
              " 'licence-needed',\n",
              " 'salary',\n",
              " 'full-time-job',\n",
              " 'supervising-job',\n",
              " 'bs-degree-needed',\n",
              " 'full-time-job',\n",
              " 'associate-needed',\n",
              " 'associate-needed',\n",
              " '2-4-years-experience-needed',\n",
              " 'full-time-job',\n",
              " 'bs-degree-needed',\n",
              " 'hourly-wage',\n",
              " 'licence-needed',\n",
              " 'full-time-job',\n",
              " 'hourly-wage',\n",
              " '5-plus-years-experience-needed',\n",
              " 'bs-degree-needed',\n",
              " 'salary',\n",
              " 'supervising-job',\n",
              " 'salary',\n",
              " 'part-time-job',\n",
              " 'hourly-wage',\n",
              " 'bs-degree-needed',\n",
              " '5-plus-years-experience-needed',\n",
              " 'supervising-job',\n",
              " 'licence-needed',\n",
              " 'full-time-job',\n",
              " 'supervising-job',\n",
              " 'part-time-job',\n",
              " 'supervising-job',\n",
              " 'hourly-wage',\n",
              " 'bs-degree-needed',\n",
              " '5-plus-years-experience-needed',\n",
              " 'bs-degree-needed',\n",
              " '2-4-years-experience-needed',\n",
              " 'salary',\n",
              " 'bs-degree-needed',\n",
              " 'hourly-wage',\n",
              " 'hourly-wage',\n",
              " 'bs-degree-needed',\n",
              " 'bs-degree-needed',\n",
              " 'salary',\n",
              " '5-plus-years-experience-needed',\n",
              " 'supervising-job',\n",
              " 'bs-degree-needed',\n",
              " '2-4-years-experience-needed',\n",
              " '2-4-years-experience-needed',\n",
              " 'salary',\n",
              " 'full-time-job',\n",
              " 'bs-degree-needed',\n",
              " 'bs-degree-needed',\n",
              " '2-4-years-experience-needed',\n",
              " 'salary',\n",
              " 'licence-needed',\n",
              " '2-4-years-experience-needed',\n",
              " 'full-time-job',\n",
              " 'supervising-job',\n",
              " 'licence-needed',\n",
              " 'supervising-job',\n",
              " '5-plus-years-experience-needed',\n",
              " 'salary',\n",
              " 'bs-degree-needed',\n",
              " 'supervising-job',\n",
              " 'hourly-wage',\n",
              " 'hourly-wage',\n",
              " 'full-time-job',\n",
              " 'licence-needed',\n",
              " 'supervising-job',\n",
              " '2-4-years-experience-needed',\n",
              " '1-year-experience-needed',\n",
              " 'salary',\n",
              " '2-4-years-experience-needed',\n",
              " 'supervising-job',\n",
              " '5-plus-years-experience-needed',\n",
              " 'supervising-job',\n",
              " '5-plus-years-experience-needed',\n",
              " 'bs-degree-needed',\n",
              " 'licence-needed',\n",
              " '2-4-years-experience-needed',\n",
              " '2-4-years-experience-needed',\n",
              " 'ms-or-phd-needed',\n",
              " 'licence-needed',\n",
              " 'hourly-wage',\n",
              " 'supervising-job',\n",
              " 'bs-degree-needed',\n",
              " 'bs-degree-needed',\n",
              " 'salary',\n",
              " 'supervising-job',\n",
              " 'supervising-job',\n",
              " 'full-time-job',\n",
              " 'hourly-wage',\n",
              " '2-4-years-experience-needed',\n",
              " 'part-time-job',\n",
              " 'licence-needed',\n",
              " 'hourly-wage',\n",
              " 'full-time-job',\n",
              " 'hourly-wage',\n",
              " '1-year-experience-needed',\n",
              " 'full-time-job',\n",
              " 'salary',\n",
              " 'full-time-job',\n",
              " 'salary',\n",
              " '2-4-years-experience-needed',\n",
              " '2-4-years-experience-needed',\n",
              " 'hourly-wage',\n",
              " 'full-time-job',\n",
              " '1-year-experience-needed',\n",
              " '2-4-years-experience-needed',\n",
              " 'bs-degree-needed',\n",
              " 'supervising-job',\n",
              " '5-plus-years-experience-needed',\n",
              " 'full-time-job',\n",
              " '2-4-years-experience-needed',\n",
              " '1-year-experience-needed',\n",
              " 'associate-needed',\n",
              " 'part-time-job',\n",
              " '2-4-years-experience-needed',\n",
              " 'licence-needed',\n",
              " '2-4-years-experience-needed',\n",
              " 'salary',\n",
              " 'bs-degree-needed',\n",
              " '5-plus-years-experience-needed',\n",
              " '5-plus-years-experience-needed',\n",
              " 'salary',\n",
              " 'full-time-job',\n",
              " '2-4-years-experience-needed',\n",
              " 'salary',\n",
              " 'associate-needed',\n",
              " 'bs-degree-needed',\n",
              " '5-plus-years-experience-needed',\n",
              " 'supervising-job',\n",
              " 'part-time-job',\n",
              " 'hourly-wage',\n",
              " 'licence-needed',\n",
              " 'hourly-wage',\n",
              " '1-year-experience-needed',\n",
              " 'ms-or-phd-needed',\n",
              " 'hourly-wage',\n",
              " 'full-time-job',\n",
              " 'bs-degree-needed',\n",
              " '2-4-years-experience-needed',\n",
              " 'full-time-job',\n",
              " 'salary',\n",
              " 'bs-degree-needed',\n",
              " '2-4-years-experience-needed',\n",
              " '5-plus-years-experience-needed',\n",
              " 'part-time-job',\n",
              " 'bs-degree-needed',\n",
              " 'supervising-job',\n",
              " '2-4-years-experience-needed',\n",
              " 'bs-degree-needed',\n",
              " '2-4-years-experience-needed',\n",
              " '2-4-years-experience-needed',\n",
              " 'licence-needed',\n",
              " 'salary',\n",
              " '1-year-experience-needed',\n",
              " 'supervising-job',\n",
              " 'bs-degree-needed',\n",
              " '2-4-years-experience-needed',\n",
              " 'salary',\n",
              " '5-plus-years-experience-needed',\n",
              " 'full-time-job',\n",
              " 'bs-degree-needed',\n",
              " 'full-time-job',\n",
              " 'hourly-wage',\n",
              " '5-plus-years-experience-needed',\n",
              " 'licence-needed',\n",
              " 'part-time-job',\n",
              " 'supervising-job',\n",
              " '2-4-years-experience-needed',\n",
              " 'full-time-job',\n",
              " 'bs-degree-needed',\n",
              " 'supervising-job',\n",
              " '2-4-years-experience-needed',\n",
              " 'supervising-job',\n",
              " 'bs-degree-needed',\n",
              " '2-4-years-experience-needed',\n",
              " 'hourly-wage',\n",
              " 'salary',\n",
              " 'ms-or-phd-needed',\n",
              " 'supervising-job',\n",
              " 'full-time-job',\n",
              " '5-plus-years-experience-needed',\n",
              " '2-4-years-experience-needed',\n",
              " 'full-time-job',\n",
              " 'part-time-job',\n",
              " 'salary',\n",
              " 'part-time-job',\n",
              " 'salary',\n",
              " 'supervising-job',\n",
              " 'salary',\n",
              " '5-plus-years-experience-needed',\n",
              " 'bs-degree-needed',\n",
              " '2-4-years-experience-needed',\n",
              " 'bs-degree-needed',\n",
              " '5-plus-years-experience-needed',\n",
              " 'full-time-job',\n",
              " 'bs-degree-needed',\n",
              " 'salary',\n",
              " 'supervising-job',\n",
              " 'full-time-job',\n",
              " 'salary',\n",
              " '2-4-years-experience-needed',\n",
              " 'bs-degree-needed',\n",
              " '2-4-years-experience-needed',\n",
              " 'bs-degree-needed',\n",
              " 'full-time-job',\n",
              " 'bs-degree-needed',\n",
              " 'bs-degree-needed',\n",
              " '5-plus-years-experience-needed',\n",
              " '2-4-years-experience-needed',\n",
              " 'supervising-job',\n",
              " '2-4-years-experience-needed',\n",
              " 'bs-degree-needed',\n",
              " 'licence-needed',\n",
              " 'full-time-job',\n",
              " 'bs-degree-needed',\n",
              " '5-plus-years-experience-needed',\n",
              " 'full-time-job',\n",
              " '2-4-years-experience-needed',\n",
              " 'licence-needed',\n",
              " 'supervising-job',\n",
              " '2-4-years-experience-needed',\n",
              " 'hourly-wage',\n",
              " 'full-time-job',\n",
              " 'full-time-job',\n",
              " 'associate-needed',\n",
              " 'part-time-job',\n",
              " '2-4-years-experience-needed',\n",
              " 'hourly-wage',\n",
              " 'licence-needed',\n",
              " '1-year-experience-needed',\n",
              " 'supervising-job',\n",
              " 'licence-needed',\n",
              " 'full-time-job',\n",
              " '2-4-years-experience-needed',\n",
              " 'bs-degree-needed',\n",
              " 'supervising-job',\n",
              " 'bs-degree-needed',\n",
              " 'supervising-job',\n",
              " '5-plus-years-experience-needed',\n",
              " '2-4-years-experience-needed',\n",
              " 'licence-needed',\n",
              " 'hourly-wage',\n",
              " 'hourly-wage',\n",
              " 'full-time-job',\n",
              " 'hourly-wage',\n",
              " 'supervising-job',\n",
              " 'bs-degree-needed',\n",
              " '2-4-years-experience-needed',\n",
              " '2-4-years-experience-needed',\n",
              " 'full-time-job',\n",
              " 'supervising-job',\n",
              " 'full-time-job',\n",
              " 'bs-degree-needed',\n",
              " '2-4-years-experience-needed',\n",
              " 'supervising-job',\n",
              " '2-4-years-experience-needed',\n",
              " 'bs-degree-needed',\n",
              " 'full-time-job',\n",
              " 'bs-degree-needed',\n",
              " '5-plus-years-experience-needed',\n",
              " '2-4-years-experience-needed',\n",
              " 'hourly-wage',\n",
              " 'supervising-job',\n",
              " '2-4-years-experience-needed',\n",
              " 'hourly-wage',\n",
              " 'bs-degree-needed',\n",
              " '5-plus-years-experience-needed',\n",
              " 'bs-degree-needed',\n",
              " '5-plus-years-experience-needed',\n",
              " 'supervising-job',\n",
              " 'bs-degree-needed',\n",
              " '2-4-years-experience-needed',\n",
              " 'salary',\n",
              " 'full-time-job',\n",
              " 'licence-needed',\n",
              " 'licence-needed',\n",
              " 'licence-needed',\n",
              " 'salary',\n",
              " '5-plus-years-experience-needed',\n",
              " 'bs-degree-needed',\n",
              " 'supervising-job',\n",
              " '5-plus-years-experience-needed',\n",
              " 'bs-degree-needed',\n",
              " 'bs-degree-needed',\n",
              " 'full-time-job',\n",
              " '5-plus-years-experience-needed',\n",
              " 'supervising-job',\n",
              " '2-4-years-experience-needed',\n",
              " 'full-time-job',\n",
              " 'bs-degree-needed',\n",
              " 'supervising-job',\n",
              " '5-plus-years-experience-needed',\n",
              " 'supervising-job',\n",
              " 'bs-degree-needed',\n",
              " '5-plus-years-experience-needed',\n",
              " '5-plus-years-experience-needed',\n",
              " 'salary',\n",
              " 'bs-degree-needed',\n",
              " 'supervising-job',\n",
              " 'bs-degree-needed',\n",
              " 'supervising-job',\n",
              " '5-plus-years-experience-needed',\n",
              " 'salary',\n",
              " '5-plus-years-experience-needed',\n",
              " 'associate-needed',\n",
              " '1-year-experience-needed',\n",
              " '5-plus-years-experience-needed',\n",
              " 'salary',\n",
              " 'bs-degree-needed',\n",
              " 'supervising-job',\n",
              " 'part-time-job',\n",
              " 'hourly-wage',\n",
              " '5-plus-years-experience-needed',\n",
              " '2-4-years-experience-needed',\n",
              " 'bs-degree-needed',\n",
              " '2-4-years-experience-needed',\n",
              " 'bs-degree-needed',\n",
              " 'salary',\n",
              " '5-plus-years-experience-needed',\n",
              " 'bs-degree-needed',\n",
              " 'full-time-job',\n",
              " 'supervising-job',\n",
              " '2-4-years-experience-needed',\n",
              " 'hourly-wage',\n",
              " 'part-time-job',\n",
              " 'salary',\n",
              " '2-4-years-experience-needed',\n",
              " 'bs-degree-needed',\n",
              " '5-plus-years-experience-needed',\n",
              " 'hourly-wage',\n",
              " '2-4-years-experience-needed',\n",
              " 'full-time-job',\n",
              " 'full-time-job',\n",
              " 'salary',\n",
              " '1-year-experience-needed',\n",
              " 'bs-degree-needed',\n",
              " '2-4-years-experience-needed',\n",
              " 'salary',\n",
              " '2-4-years-experience-needed',\n",
              " 'bs-degree-needed',\n",
              " 'salary',\n",
              " 'supervising-job',\n",
              " '1-year-experience-needed',\n",
              " '5-plus-years-experience-needed',\n",
              " 'full-time-job',\n",
              " 'supervising-job',\n",
              " 'bs-degree-needed',\n",
              " '2-4-years-experience-needed',\n",
              " '2-4-years-experience-needed',\n",
              " '5-plus-years-experience-needed',\n",
              " 'bs-degree-needed',\n",
              " 'supervising-job',\n",
              " '5-plus-years-experience-needed',\n",
              " 'bs-degree-needed',\n",
              " 'bs-degree-needed',\n",
              " '2-4-years-experience-needed',\n",
              " 'part-time-job',\n",
              " 'hourly-wage',\n",
              " 'ms-or-phd-needed',\n",
              " '2-4-years-experience-needed',\n",
              " 'bs-degree-needed',\n",
              " '5-plus-years-experience-needed',\n",
              " 'supervising-job',\n",
              " 'bs-degree-needed',\n",
              " 'associate-needed',\n",
              " 'salary',\n",
              " '1-year-experience-needed',\n",
              " '2-4-years-experience-needed',\n",
              " 'licence-needed',\n",
              " '2-4-years-experience-needed',\n",
              " 'salary',\n",
              " 'full-time-job',\n",
              " '1-year-experience-needed',\n",
              " '2-4-years-experience-needed',\n",
              " 'full-time-job',\n",
              " 'supervising-job',\n",
              " 'bs-degree-needed',\n",
              " 'full-time-job',\n",
              " 'licence-needed',\n",
              " 'supervising-job',\n",
              " 'associate-needed',\n",
              " 'bs-degree-needed',\n",
              " 'full-time-job',\n",
              " 'supervising-job',\n",
              " 'associate-needed',\n",
              " 'full-time-job',\n",
              " 'salary',\n",
              " '2-4-years-experience-needed',\n",
              " '2-4-years-experience-needed',\n",
              " 'salary',\n",
              " 'supervising-job',\n",
              " 'full-time-job',\n",
              " '2-4-years-experience-needed',\n",
              " '1-year-experience-needed',\n",
              " '2-4-years-experience-needed',\n",
              " 'associate-needed',\n",
              " '1-year-experience-needed',\n",
              " 'bs-degree-needed',\n",
              " '1-year-experience-needed',\n",
              " 'licence-needed',\n",
              " 'full-time-job',\n",
              " '1-year-experience-needed',\n",
              " 'bs-degree-needed',\n",
              " '2-4-years-experience-needed',\n",
              " 'bs-degree-needed',\n",
              " 'salary',\n",
              " '5-plus-years-experience-needed',\n",
              " 'supervising-job',\n",
              " 'bs-degree-needed',\n",
              " '5-plus-years-experience-needed',\n",
              " 'licence-needed',\n",
              " 'supervising-job',\n",
              " 'associate-needed',\n",
              " 'licence-needed',\n",
              " 'bs-degree-needed',\n",
              " 'supervising-job',\n",
              " '2-4-years-experience-needed',\n",
              " '1-year-experience-needed',\n",
              " 'full-time-job',\n",
              " '5-plus-years-experience-needed',\n",
              " 'salary',\n",
              " 'salary',\n",
              " '2-4-years-experience-needed',\n",
              " 'supervising-job',\n",
              " 'bs-degree-needed',\n",
              " 'ms-or-phd-needed',\n",
              " '2-4-years-experience-needed',\n",
              " '5-plus-years-experience-needed',\n",
              " 'bs-degree-needed',\n",
              " '5-plus-years-experience-needed',\n",
              " 'bs-degree-needed',\n",
              " 'full-time-job',\n",
              " 'bs-degree-needed',\n",
              " '2-4-years-experience-needed',\n",
              " 'full-time-job',\n",
              " 'associate-needed',\n",
              " 'full-time-job',\n",
              " '2-4-years-experience-needed',\n",
              " '2-4-years-experience-needed',\n",
              " 'licence-needed',\n",
              " 'salary',\n",
              " 'full-time-job',\n",
              " 'licence-needed',\n",
              " 'supervising-job',\n",
              " 'licence-needed',\n",
              " '2-4-years-experience-needed',\n",
              " 'bs-degree-needed',\n",
              " '1-year-experience-needed',\n",
              " 'bs-degree-needed',\n",
              " 'ms-or-phd-needed',\n",
              " '5-plus-years-experience-needed',\n",
              " '5-plus-years-experience-needed',\n",
              " 'hourly-wage',\n",
              " 'associate-needed',\n",
              " '2-4-years-experience-needed',\n",
              " '2-4-years-experience-needed',\n",
              " 'bs-degree-needed',\n",
              " 'supervising-job',\n",
              " '5-plus-years-experience-needed',\n",
              " 'hourly-wage',\n",
              " 'full-time-job',\n",
              " 'associate-needed',\n",
              " 'full-time-job',\n",
              " 'bs-degree-needed',\n",
              " '2-4-years-experience-needed',\n",
              " 'licence-needed',\n",
              " 'licence-needed',\n",
              " 'part-time-job',\n",
              " 'licence-needed',\n",
              " 'licence-needed',\n",
              " 'supervising-job',\n",
              " '5-plus-years-experience-needed',\n",
              " 'associate-needed',\n",
              " 'salary',\n",
              " 'licence-needed',\n",
              " 'salary',\n",
              " 'supervising-job',\n",
              " 'full-time-job',\n",
              " 'licence-needed',\n",
              " 'licence-needed',\n",
              " 'part-time-job',\n",
              " 'full-time-job',\n",
              " 'bs-degree-needed',\n",
              " '2-4-years-experience-needed',\n",
              " '2-4-years-experience-needed',\n",
              " 'bs-degree-needed',\n",
              " 'supervising-job',\n",
              " 'salary',\n",
              " '2-4-years-experience-needed',\n",
              " '2-4-years-experience-needed',\n",
              " 'full-time-job',\n",
              " 'ms-or-phd-needed',\n",
              " 'full-time-job',\n",
              " '5-plus-years-experience-needed',\n",
              " 'licence-needed',\n",
              " '1-year-experience-needed',\n",
              " 'hourly-wage',\n",
              " 'supervising-job',\n",
              " '2-4-years-experience-needed',\n",
              " 'salary',\n",
              " 'full-time-job',\n",
              " 'supervising-job',\n",
              " 'associate-needed',\n",
              " 'part-time-job',\n",
              " 'bs-degree-needed',\n",
              " 'salary',\n",
              " '2-4-years-experience-needed',\n",
              " '2-4-years-experience-needed',\n",
              " 'salary',\n",
              " 'licence-needed',\n",
              " '2-4-years-experience-needed',\n",
              " 'salary',\n",
              " 'full-time-job',\n",
              " 'bs-degree-needed',\n",
              " 'supervising-job',\n",
              " '1-year-experience-needed',\n",
              " 'bs-degree-needed',\n",
              " '2-4-years-experience-needed',\n",
              " 'hourly-wage',\n",
              " 'full-time-job',\n",
              " '1-year-experience-needed',\n",
              " 'licence-needed',\n",
              " '5-plus-years-experience-needed',\n",
              " 'associate-needed',\n",
              " '2-4-years-experience-needed',\n",
              " 'part-time-job',\n",
              " 'licence-needed',\n",
              " '5-plus-years-experience-needed',\n",
              " 'full-time-job',\n",
              " 'ms-or-phd-needed',\n",
              " '5-plus-years-experience-needed',\n",
              " 'full-time-job',\n",
              " 'salary',\n",
              " '2-4-years-experience-needed',\n",
              " 'licence-needed',\n",
              " '5-plus-years-experience-needed',\n",
              " 'full-time-job',\n",
              " 'ms-or-phd-needed',\n",
              " 'full-time-job',\n",
              " 'supervising-job',\n",
              " 'associate-needed',\n",
              " '2-4-years-experience-needed',\n",
              " 'full-time-job',\n",
              " '1-year-experience-needed',\n",
              " 'part-time-job',\n",
              " 'bs-degree-needed',\n",
              " 'supervising-job',\n",
              " '2-4-years-experience-needed',\n",
              " 'bs-degree-needed',\n",
              " 'salary',\n",
              " '2-4-years-experience-needed',\n",
              " 'bs-degree-needed',\n",
              " 'supervising-job',\n",
              " '1-year-experience-needed',\n",
              " 'bs-degree-needed',\n",
              " '5-plus-years-experience-needed',\n",
              " '2-4-years-experience-needed',\n",
              " 'licence-needed',\n",
              " 'hourly-wage',\n",
              " 'full-time-job',\n",
              " '1-year-experience-needed',\n",
              " 'bs-degree-needed',\n",
              " 'hourly-wage',\n",
              " 'ms-or-phd-needed',\n",
              " 'salary',\n",
              " 'licence-needed',\n",
              " '2-4-years-experience-needed',\n",
              " 'bs-degree-needed',\n",
              " '2-4-years-experience-needed',\n",
              " 'licence-needed',\n",
              " '1-year-experience-needed',\n",
              " 'full-time-job',\n",
              " 'hourly-wage',\n",
              " '5-plus-years-experience-needed',\n",
              " '2-4-years-experience-needed',\n",
              " 'supervising-job',\n",
              " 'bs-degree-needed',\n",
              " '5-plus-years-experience-needed',\n",
              " 'ms-or-phd-needed',\n",
              " 'licence-needed',\n",
              " 'supervising-job',\n",
              " 'salary',\n",
              " 'full-time-job',\n",
              " 'bs-degree-needed',\n",
              " '2-4-years-experience-needed',\n",
              " 'licence-needed',\n",
              " 'bs-degree-needed',\n",
              " '5-plus-years-experience-needed',\n",
              " 'bs-degree-needed',\n",
              " 'bs-degree-needed',\n",
              " 'salary',\n",
              " '5-plus-years-experience-needed',\n",
              " '2-4-years-experience-needed',\n",
              " 'supervising-job',\n",
              " 'bs-degree-needed',\n",
              " 'full-time-job',\n",
              " '5-plus-years-experience-needed',\n",
              " 'hourly-wage',\n",
              " '5-plus-years-experience-needed',\n",
              " 'bs-degree-needed',\n",
              " 'full-time-job',\n",
              " 'hourly-wage',\n",
              " 'supervising-job',\n",
              " '2-4-years-experience-needed',\n",
              " '5-plus-years-experience-needed',\n",
              " 'supervising-job',\n",
              " 'bs-degree-needed',\n",
              " 'supervising-job',\n",
              " 'bs-degree-needed',\n",
              " '5-plus-years-experience-needed',\n",
              " '2-4-years-experience-needed',\n",
              " 'associate-needed',\n",
              " '2-4-years-experience-needed',\n",
              " 'supervising-job',\n",
              " 'salary',\n",
              " 'full-time-job',\n",
              " 'bs-degree-needed',\n",
              " '5-plus-years-experience-needed',\n",
              " '2-4-years-experience-needed',\n",
              " '2-4-years-experience-needed',\n",
              " 'licence-needed',\n",
              " 'supervising-job',\n",
              " 'supervising-job',\n",
              " 'bs-degree-needed',\n",
              " '5-plus-years-experience-needed',\n",
              " 'supervising-job',\n",
              " '5-plus-years-experience-needed',\n",
              " 'bs-degree-needed',\n",
              " 'full-time-job',\n",
              " 'bs-degree-needed',\n",
              " 'supervising-job',\n",
              " '5-plus-years-experience-needed',\n",
              " 'bs-degree-needed',\n",
              " '1-year-experience-needed',\n",
              " 'bs-degree-needed',\n",
              " '5-plus-years-experience-needed',\n",
              " 'bs-degree-needed',\n",
              " 'supervising-job',\n",
              " '5-plus-years-experience-needed',\n",
              " 'full-time-job',\n",
              " '2-4-years-experience-needed',\n",
              " 'bs-degree-needed',\n",
              " '2-4-years-experience-needed',\n",
              " 'associate-needed',\n",
              " 'bs-degree-needed',\n",
              " '5-plus-years-experience-needed',\n",
              " 'supervising-job',\n",
              " 'supervising-job',\n",
              " '2-4-years-experience-needed',\n",
              " 'bs-degree-needed',\n",
              " '2-4-years-experience-needed',\n",
              " 'bs-degree-needed',\n",
              " '2-4-years-experience-needed',\n",
              " 'licence-needed',\n",
              " '1-year-experience-needed',\n",
              " 'salary',\n",
              " '2-4-years-experience-needed',\n",
              " 'associate-needed',\n",
              " 'bs-degree-needed',\n",
              " '2-4-years-experience-needed',\n",
              " 'supervising-job',\n",
              " '2-4-years-experience-needed',\n",
              " 'licence-needed',\n",
              " '5-plus-years-experience-needed',\n",
              " 'ms-or-phd-needed',\n",
              " 'salary',\n",
              " '1-year-experience-needed',\n",
              " 'supervising-job',\n",
              " 'bs-degree-needed',\n",
              " '5-plus-years-experience-needed',\n",
              " 'licence-needed',\n",
              " 'salary',\n",
              " 'licence-needed',\n",
              " 'hourly-wage',\n",
              " 'salary',\n",
              " 'part-time-job',\n",
              " 'bs-degree-needed',\n",
              " '5-plus-years-experience-needed',\n",
              " 'salary',\n",
              " '2-4-years-experience-needed',\n",
              " 'bs-degree-needed',\n",
              " 'salary',\n",
              " 'bs-degree-needed',\n",
              " '2-4-years-experience-needed',\n",
              " 'full-time-job',\n",
              " 'associate-needed',\n",
              " '1-year-experience-needed',\n",
              " '2-4-years-experience-needed',\n",
              " 'associate-needed',\n",
              " 'bs-degree-needed',\n",
              " '2-4-years-experience-needed',\n",
              " 'associate-needed',\n",
              " '2-4-years-experience-needed',\n",
              " '2-4-years-experience-needed',\n",
              " 'salary',\n",
              " 'licence-needed',\n",
              " 'supervising-job',\n",
              " '1-year-experience-needed',\n",
              " 'licence-needed',\n",
              " 'licence-needed',\n",
              " '2-4-years-experience-needed',\n",
              " 'full-time-job',\n",
              " 'associate-needed',\n",
              " '1-year-experience-needed',\n",
              " 'bs-degree-needed',\n",
              " 'bs-degree-needed',\n",
              " '2-4-years-experience-needed',\n",
              " 'part-time-job',\n",
              " 'hourly-wage',\n",
              " '2-4-years-experience-needed',\n",
              " 'full-time-job',\n",
              " 'supervising-job',\n",
              " 'bs-degree-needed',\n",
              " '2-4-years-experience-needed',\n",
              " 'salary',\n",
              " '2-4-years-experience-needed',\n",
              " 'licence-needed',\n",
              " '2-4-years-experience-needed',\n",
              " 'supervising-job',\n",
              " 'salary',\n",
              " 'full-time-job',\n",
              " 'supervising-job',\n",
              " 'associate-needed',\n",
              " 'salary',\n",
              " '5-plus-years-experience-needed',\n",
              " 'hourly-wage',\n",
              " 'part-time-job',\n",
              " '2-4-years-experience-needed',\n",
              " '2-4-years-experience-needed',\n",
              " 'bs-degree-needed',\n",
              " 'supervising-job',\n",
              " 'bs-degree-needed',\n",
              " 'full-time-job',\n",
              " '2-4-years-experience-needed',\n",
              " 'supervising-job',\n",
              " '2-4-years-experience-needed',\n",
              " '2-4-years-experience-needed',\n",
              " 'bs-degree-needed',\n",
              " '2-4-years-experience-needed',\n",
              " 'bs-degree-needed',\n",
              " 'licence-needed',\n",
              " '5-plus-years-experience-needed',\n",
              " 'bs-degree-needed',\n",
              " 'full-time-job',\n",
              " '5-plus-years-experience-needed',\n",
              " '2-4-years-experience-needed',\n",
              " '2-4-years-experience-needed',\n",
              " 'supervising-job',\n",
              " 'supervising-job',\n",
              " 'bs-degree-needed',\n",
              " '2-4-years-experience-needed',\n",
              " 'full-time-job',\n",
              " 'bs-degree-needed',\n",
              " '1-year-experience-needed',\n",
              " 'bs-degree-needed',\n",
              " 'bs-degree-needed',\n",
              " '5-plus-years-experience-needed',\n",
              " '5-plus-years-experience-needed',\n",
              " '2-4-years-experience-needed',\n",
              " 'bs-degree-needed',\n",
              " 'bs-degree-needed',\n",
              " 'bs-degree-needed',\n",
              " 'full-time-job',\n",
              " '5-plus-years-experience-needed',\n",
              " 'licence-needed',\n",
              " 'supervising-job',\n",
              " 'full-time-job',\n",
              " 'hourly-wage',\n",
              " 'hourly-wage',\n",
              " '2-4-years-experience-needed',\n",
              " 'supervising-job',\n",
              " 'bs-degree-needed',\n",
              " 'ms-or-phd-needed',\n",
              " 'supervising-job',\n",
              " '2-4-years-experience-needed',\n",
              " '2-4-years-experience-needed',\n",
              " '2-4-years-experience-needed',\n",
              " 'salary',\n",
              " 'full-time-job',\n",
              " 'bs-degree-needed',\n",
              " '2-4-years-experience-needed',\n",
              " '2-4-years-experience-needed',\n",
              " 'ms-or-phd-needed',\n",
              " 'ms-or-phd-needed',\n",
              " '5-plus-years-experience-needed',\n",
              " 'full-time-job',\n",
              " '2-4-years-experience-needed',\n",
              " 'full-time-job',\n",
              " 'bs-degree-needed',\n",
              " '2-4-years-experience-needed',\n",
              " 'salary',\n",
              " 'full-time-job',\n",
              " 'salary',\n",
              " 'ms-or-phd-needed',\n",
              " 'full-time-job',\n",
              " '2-4-years-experience-needed',\n",
              " 'full-time-job',\n",
              " 'bs-degree-needed',\n",
              " 'salary',\n",
              " 'licence-needed',\n",
              " '1-year-experience-needed',\n",
              " 'bs-degree-needed',\n",
              " '2-4-years-experience-needed',\n",
              " 'hourly-wage',\n",
              " 'full-time-job',\n",
              " 'bs-degree-needed',\n",
              " '5-plus-years-experience-needed',\n",
              " 'salary',\n",
              " 'full-time-job',\n",
              " 'salary',\n",
              " 'bs-degree-needed',\n",
              " '5-plus-years-experience-needed',\n",
              " '2-4-years-experience-needed',\n",
              " 'bs-degree-needed',\n",
              " 'licence-needed',\n",
              " '5-plus-years-experience-needed',\n",
              " 'full-time-job',\n",
              " '2-4-years-experience-needed',\n",
              " 'ms-or-phd-needed',\n",
              " '2-4-years-experience-needed',\n",
              " 'licence-needed',\n",
              " ...]"
            ]
          },
          "metadata": {},
          "execution_count": 19
        }
      ]
    },
    {
      "cell_type": "code",
      "metadata": {
        "colab": {
          "base_uri": "https://localhost:8080/"
        },
        "id": "CDqN_r66uuCJ",
        "outputId": "7e8d5639-7e2e-423f-cdfb-a22b9d3e2276"
      },
      "source": [
        "# getting unique set\n",
        "my_set = set(all_tags)\n",
        "unique_tags = list(my_set)\n",
        "len(unique_tags)"
      ],
      "execution_count": 20,
      "outputs": [
        {
          "output_type": "execute_result",
          "data": {
            "text/plain": [
              "12"
            ]
          },
          "metadata": {},
          "execution_count": 20
        }
      ]
    },
    {
      "cell_type": "code",
      "metadata": {
        "colab": {
          "base_uri": "https://localhost:8080/"
        },
        "id": "vdY5II-k8KDn",
        "outputId": "30989dea-e953-48f1-81ab-c18143a92a6e"
      },
      "source": [
        "unique_tags"
      ],
      "execution_count": 21,
      "outputs": [
        {
          "output_type": "execute_result",
          "data": {
            "text/plain": [
              "['hourly-wage',\n",
              " 'salary',\n",
              " 'bs-degree-needed',\n",
              " '2-4-years-experience-needed',\n",
              " 'ms-or-phd-needed',\n",
              " 'supervising-job',\n",
              " 'part-time-job',\n",
              " '1-year-experience-needed',\n",
              " 'full-time-job',\n",
              " 'associate-needed',\n",
              " '5-plus-years-experience-needed',\n",
              " 'licence-needed']"
            ]
          },
          "metadata": {},
          "execution_count": 21
        }
      ]
    },
    {
      "cell_type": "code",
      "metadata": {
        "id": "Ua8e5djg8ItG"
      },
      "source": [
        "# we have all 6800 tag but repeated so after finding unique values we only left with 12 "
      ],
      "execution_count": 22,
      "outputs": []
    },
    {
      "cell_type": "markdown",
      "metadata": {
        "id": "uXbnzmMq9Txw"
      },
      "source": [
        "## Preprocessing"
      ]
    },
    {
      "cell_type": "code",
      "metadata": {
        "id": "HDTYwZP784cE"
      },
      "source": [
        "\n",
        "token=ToktokTokenizer()\n",
        "lemma=WordNetLemmatizer()\n",
        "\n",
        "def lemitizeWords(text):\n",
        "    words=token.tokenize(text)\n",
        "    listLemma=[]\n",
        "    for w in words:\n",
        "        x=lemma.lemmatize(w, pos=\"v\")\n",
        "        listLemma.append(x)\n",
        "    return ' '.join(map(str, listLemma))"
      ],
      "execution_count": 23,
      "outputs": []
    },
    {
      "cell_type": "code",
      "metadata": {
        "id": "j36PlMgk-oNh"
      },
      "source": [
        "df['description'] = df['description'].apply(\n",
        "              lambda x: lemitizeWords(x)) "
      ],
      "execution_count": 24,
      "outputs": []
    },
    {
      "cell_type": "code",
      "metadata": {
        "colab": {
          "base_uri": "https://localhost:8080/"
        },
        "id": "NNzCXlRP-x8q",
        "outputId": "9c603553-f110-4d36-f6e8-ad4589a66ed2"
      },
      "source": [
        "df['description'].head(10)"
      ],
      "execution_count": 25,
      "outputs": [
        {
          "output_type": "execute_result",
          "data": {
            "text/plain": [
              "0    THE COMPANY Employer midstream service provide...\n",
              "1    ICR Staffing accept resume Industrial Maintena...\n",
              "2    This great position right person. HEALTHCAREse...\n",
              "3    A large multi-specialty health center expand A...\n",
              "4    JOB PURPOSE : The Account Director responsible...\n",
              "5    At Cottage Health System , facilities state ar...\n",
              "6    *E Learning Instructional Designer least + yea...\n",
              "7    Sales Service Representative SAF-Holland lead ...\n",
              "8    SAF-Holland , Inc. currently seek Internal Aud...\n",
              "9    Immediate open full time staff coordinator Hea...\n",
              "Name: description, dtype: object"
            ]
          },
          "metadata": {},
          "execution_count": 25
        }
      ]
    },
    {
      "cell_type": "markdown",
      "metadata": {
        "id": "wcD-QFL2AEG6"
      },
      "source": [
        "## Model Building"
      ]
    },
    {
      "cell_type": "code",
      "metadata": {
        "colab": {
          "base_uri": "https://localhost:8080/",
          "height": 204
        },
        "id": "qwX_IOvTBONL",
        "outputId": "1e901aaa-3dca-4308-b0dc-361e6a630873"
      },
      "source": [
        "df.head()"
      ],
      "execution_count": 26,
      "outputs": [
        {
          "output_type": "execute_result",
          "data": {
            "text/html": [
              "<div>\n",
              "<style scoped>\n",
              "    .dataframe tbody tr th:only-of-type {\n",
              "        vertical-align: middle;\n",
              "    }\n",
              "\n",
              "    .dataframe tbody tr th {\n",
              "        vertical-align: top;\n",
              "    }\n",
              "\n",
              "    .dataframe thead th {\n",
              "        text-align: right;\n",
              "    }\n",
              "</style>\n",
              "<table border=\"1\" class=\"dataframe\">\n",
              "  <thead>\n",
              "    <tr style=\"text-align: right;\">\n",
              "      <th></th>\n",
              "      <th>tags</th>\n",
              "      <th>description</th>\n",
              "      <th>new_tags</th>\n",
              "    </tr>\n",
              "  </thead>\n",
              "  <tbody>\n",
              "    <tr>\n",
              "      <th>0</th>\n",
              "      <td>licence-needed supervising-job 5-plus-years-ex...</td>\n",
              "      <td>THE COMPANY Employer midstream service provide...</td>\n",
              "      <td>[licence-needed, supervising-job, 5-plus-years...</td>\n",
              "    </tr>\n",
              "    <tr>\n",
              "      <th>1</th>\n",
              "      <td>2-4-years-experience-needed salary full-time-job</td>\n",
              "      <td>ICR Staffing accept resume Industrial Maintena...</td>\n",
              "      <td>[2-4-years-experience-needed, salary, full-tim...</td>\n",
              "    </tr>\n",
              "    <tr>\n",
              "      <th>2</th>\n",
              "      <td>part-time-job</td>\n",
              "      <td>This great position right person. HEALTHCAREse...</td>\n",
              "      <td>[part-time-job]</td>\n",
              "    </tr>\n",
              "    <tr>\n",
              "      <th>3</th>\n",
              "      <td>licence-needed</td>\n",
              "      <td>A large multi-specialty health center expand A...</td>\n",
              "      <td>[licence-needed]</td>\n",
              "    </tr>\n",
              "    <tr>\n",
              "      <th>4</th>\n",
              "      <td>5-plus-years-experience-needed full-time-job b...</td>\n",
              "      <td>JOB PURPOSE : The Account Director responsible...</td>\n",
              "      <td>[5-plus-years-experience-needed, full-time-job...</td>\n",
              "    </tr>\n",
              "  </tbody>\n",
              "</table>\n",
              "</div>"
            ],
            "text/plain": [
              "                                                tags  ...                                           new_tags\n",
              "0  licence-needed supervising-job 5-plus-years-ex...  ...  [licence-needed, supervising-job, 5-plus-years...\n",
              "1   2-4-years-experience-needed salary full-time-job  ...  [2-4-years-experience-needed, salary, full-tim...\n",
              "2                                      part-time-job  ...                                    [part-time-job]\n",
              "3                                     licence-needed  ...                                   [licence-needed]\n",
              "4  5-plus-years-experience-needed full-time-job b...  ...  [5-plus-years-experience-needed, full-time-job...\n",
              "\n",
              "[5 rows x 3 columns]"
            ]
          },
          "metadata": {},
          "execution_count": 26
        }
      ]
    },
    {
      "cell_type": "code",
      "metadata": {
        "id": "h808m_YFcKsg"
      },
      "source": [
        "x_train=df['description'][:3000]\n",
        "x_test=df['description'][3000:]\n",
        "\n",
        "y_train = df['tags'][:3000]\n",
        "y_test =  df['tags'][3000:]"
      ],
      "execution_count": 27,
      "outputs": []
    },
    {
      "cell_type": "code",
      "metadata": {
        "id": "57oNfCdtcRBS"
      },
      "source": [
        "from sklearn.feature_extraction.text import CountVectorizer\n",
        "vectorizer = CountVectorizer(tokenizer = lambda x: x.split(), binary='true')"
      ],
      "execution_count": 28,
      "outputs": []
    },
    {
      "cell_type": "code",
      "metadata": {
        "id": "dA0EmM5XcYyR"
      },
      "source": [
        "multilabel_y_train = vectorizer.fit_transform(y_train)\n",
        "multilabel_y_test = vectorizer.fit_transform(y_test)"
      ],
      "execution_count": 29,
      "outputs": []
    },
    {
      "cell_type": "code",
      "metadata": {
        "colab": {
          "base_uri": "https://localhost:8080/"
        },
        "id": "s5aICvAkdkKf",
        "outputId": "c0dd7c51-a42f-46b7-a43f-03f471335c7d"
      },
      "source": [
        "vectorizer.get_feature_names()"
      ],
      "execution_count": 30,
      "outputs": [
        {
          "output_type": "execute_result",
          "data": {
            "text/plain": [
              "['1-year-experience-needed',\n",
              " '2-4-years-experience-needed',\n",
              " '5-plus-years-experience-needed',\n",
              " 'associate-needed',\n",
              " 'bs-degree-needed',\n",
              " 'full-time-job',\n",
              " 'hourly-wage',\n",
              " 'licence-needed',\n",
              " 'ms-or-phd-needed',\n",
              " 'part-time-job',\n",
              " 'salary',\n",
              " 'supervising-job']"
            ]
          },
          "metadata": {},
          "execution_count": 30
        }
      ]
    },
    {
      "cell_type": "code",
      "metadata": {
        "id": "SsyNBynUeAFK"
      },
      "source": [
        "from sklearn.feature_extraction.text import TfidfVectorizer\n",
        "vectorizer = TfidfVectorizer(smooth_idf=True, norm=\"l2\", \\\n",
        "                             tokenizer = lambda x: x.split(), sublinear_tf=False, ngram_range=(1,3))\n",
        "x_train_multilabel = vectorizer.fit_transform(x_train)\n",
        "x_test_multilabel = vectorizer.transform(x_test)"
      ],
      "execution_count": 31,
      "outputs": []
    },
    {
      "cell_type": "code",
      "metadata": {
        "colab": {
          "base_uri": "https://localhost:8080/"
        },
        "id": "ID1l1mh-di8Q",
        "outputId": "5f1cf19f-ee14-4341-8556-4585479722b0"
      },
      "source": [
        "print(\"Dimensions of train data X:\",x_train_multilabel.shape, \"Y :\",multilabel_y_train.shape)\n",
        "print(\"Dimensions of test data X:\",x_test_multilabel.shape,\"Y:\",multilabel_y_test.shape)"
      ],
      "execution_count": 32,
      "outputs": [
        {
          "output_type": "stream",
          "name": "stdout",
          "text": [
            "Dimensions of train data X: (3000, 879818) Y : (3000, 12)\n",
            "Dimensions of test data X: (504, 879818) Y: (504, 12)\n"
          ]
        }
      ]
    },
    {
      "cell_type": "code",
      "metadata": {
        "id": "sVSyPsfuevRE"
      },
      "source": [
        "import os\n",
        "import string\n",
        "import numpy as np\n",
        "import matplotlib.pyplot as plt\n",
        "from sklearn import model_selection\n",
        "from sklearn.naive_bayes import MultinomialNB\n",
        "from sklearn.metrics import classification_report"
      ],
      "execution_count": 58,
      "outputs": []
    },
    {
      "cell_type": "code",
      "metadata": {
        "id": "l-BN6gpS2s91"
      },
      "source": [
        "classifier = OneVsRestClassifier(SGDClassifier(loss='log', alpha=0.00001, penalty='l1'), n_jobs=-1)\n",
        "classifier.fit(x_train_multilabel,multilabel_y_train )\n",
        "predictions = classifier.predict (x_test_multilabel)\n",
        "predictions_train = classifier.predict (x_train_multilabel)"
      ],
      "execution_count": 34,
      "outputs": []
    },
    {
      "cell_type": "code",
      "metadata": {
        "id": "xeS6TaBF2ylx",
        "outputId": "d0634ba1-0a02-4920-eaba-8991095eec41",
        "colab": {
          "base_uri": "https://localhost:8080/"
        }
      },
      "source": [
        "print(predictions.toarray())"
      ],
      "execution_count": 35,
      "outputs": [
        {
          "output_type": "stream",
          "name": "stdout",
          "text": [
            "[[0 0 0 ... 0 1 0]\n",
            " [0 0 0 ... 0 0 0]\n",
            " [0 1 0 ... 0 0 0]\n",
            " ...\n",
            " [1 0 0 ... 0 0 0]\n",
            " [0 0 0 ... 0 0 0]\n",
            " [0 1 1 ... 0 0 1]]\n"
          ]
        }
      ]
    },
    {
      "cell_type": "code",
      "metadata": {
        "id": "ixBUsuPw24nZ"
      },
      "source": [
        "y_true = multilabel_y_test.toarray()\n",
        "y_logits = predictions.toarray()"
      ],
      "execution_count": 36,
      "outputs": []
    },
    {
      "cell_type": "code",
      "metadata": {
        "id": "lj_HOeHP3C3i"
      },
      "source": [
        "def result_check(x, y):\n",
        "     count = 0\n",
        "     for i in range(len(x)):\n",
        "         if x[i] == y[i]:\n",
        "             count += 1\n",
        "     result = count / len(x)\n",
        "     return result"
      ],
      "execution_count": 37,
      "outputs": []
    },
    {
      "cell_type": "code",
      "metadata": {
        "id": "bLbMWUNY3GbU",
        "outputId": "0e271e74-d80a-42a2-c9d3-42ad584c970d",
        "colab": {
          "base_uri": "https://localhost:8080/"
        }
      },
      "source": [
        "print(result_check(y_true[2],y_logits[2]))"
      ],
      "execution_count": 38,
      "outputs": [
        {
          "output_type": "stream",
          "name": "stdout",
          "text": [
            "0.6666666666666666\n"
          ]
        }
      ]
    },
    {
      "cell_type": "code",
      "metadata": {
        "id": "ZAcSlsh06qyG",
        "outputId": "23b008c2-2cec-4953-b434-c61e2687e655",
        "colab": {
          "base_uri": "https://localhost:8080/"
        }
      },
      "source": [
        "threshold_list = [1,.9,.8,.7,.6,.5]\n",
        "for i in threshold_list:\n",
        "  print(f'for threshold {i} accuracy is = ',subset_accuracy(y_true,y_logits,threshold=i))"
      ],
      "execution_count": 56,
      "outputs": [
        {
          "output_type": "stream",
          "name": "stdout",
          "text": [
            "for threshold 1 accuracy is =  0.1349206349206349\n",
            "for threshold 0.9 accuracy is =  0.49007936507936506\n",
            "for threshold 0.8 accuracy is =  0.8035714285714286\n",
            "for threshold 0.7 accuracy is =  0.9484126984126984\n",
            "for threshold 0.6 accuracy is =  0.9880952380952381\n",
            "for threshold 0.5 accuracy is =  1.0\n"
          ]
        }
      ]
    },
    {
      "cell_type": "code",
      "metadata": {
        "id": "wEDtfz7i3KZh"
      },
      "source": [
        "def subset_accuracy(y_true,y_predict,threshold):\n",
        "  count = 0\n",
        "  for j in range(len(y_true)):\n",
        "    if result_check(y_true[j] , y_predict[j]) >= threshold:\n",
        "      count = count + 1\n",
        "  accuracy = count / len(y_true)\n",
        "  return accuracy\n",
        "\n"
      ],
      "execution_count": 57,
      "outputs": []
    },
    {
      "cell_type": "code",
      "metadata": {
        "id": "ssxB07Xk3S4i",
        "outputId": "3197402a-2d45-4677-9c64-eaebd23ef1db",
        "colab": {
          "base_uri": "https://localhost:8080/"
        }
      },
      "source": [
        "import sklearn.metrics as metrics\n",
        "from sklearn.metrics import precision_score\n",
        "from sklearn.metrics import recall_score\n",
        "from sklearn.metrics import f1_score\n",
        "print(\"train Accuracy :\",metrics.accuracy_score(multilabel_y_train, predictions_train))\n",
        "print(\"test Accuracy :\",metrics.accuracy_score(multilabel_y_test, predictions))\n",
        "print(\"Hamming loss \",metrics.hamming_loss(multilabel_y_test,predictions))\n",
        "\n",
        "\n",
        "precision = precision_score(multilabel_y_test, predictions, average='micro')\n",
        "recall = recall_score(multilabel_y_test, predictions, average='micro')\n",
        "f1 = f1_score(multilabel_y_test, predictions, average='micro')\n",
        " \n",
        "print(\"Micro-average quality numbers\")\n",
        "print(\"Precision: {:.4f}, Recall: {:.4f}, F1-measure: {:.4f}\".format(precision, recall, f1))\n",
        "\n",
        "precision = precision_score(multilabel_y_test, predictions, average='macro')\n",
        "recall = recall_score(multilabel_y_test, predictions, average='macro')\n",
        "f1 = f1_score(multilabel_y_test, predictions, average='macro')\n",
        " \n",
        "print(\"Macro-average quality numbers\")\n",
        "print(\"Precision: {:.4f}, Recall: {:.4f}, F1-measure: {:.4f}\".format(precision, recall, f1))"
      ],
      "execution_count": 48,
      "outputs": [
        {
          "output_type": "stream",
          "name": "stdout",
          "text": [
            "train Accuracy : 0.9243333333333333\n",
            "test Accuracy : 0.1984126984126984\n",
            "Hamming loss  0.12698412698412698\n",
            "Micro-average quality numbers\n",
            "Precision: 0.6167, Recall: 0.5675, F1-measure: 0.5911\n",
            "Macro-average quality numbers\n",
            "Precision: 0.6190, Recall: 0.5004, F1-measure: 0.5329\n"
          ]
        }
      ]
    },
    {
      "cell_type": "code",
      "metadata": {
        "id": "aUhKsGaL3YNw"
      },
      "source": [
        "from sklearn.svm import LinearSVC\n",
        "from sklearn.datasets import load_iris\n",
        "from sklearn.datasets import make_classification\n",
        "from sklearn.model_selection import train_test_split\n",
        "from sklearn.model_selection import cross_val_score\n",
        "from sklearn.metrics import confusion_matrix\n",
        "from sklearn.metrics import classification_report\n",
        "from sklearn.multiclass import OneVsRestClassifier"
      ],
      "execution_count": 61,
      "outputs": []
    },
    {
      "cell_type": "code",
      "metadata": {
        "id": "GSkB6Uyl5XOk"
      },
      "source": [
        "classifier = OneVsRestClassifier(LinearSVC(verbose=0))\n",
        "classifier.fit(x_train_multilabel,multilabel_y_train )\n",
        "predictions = classifier.predict (x_test_multilabel)\n",
        "predictions_train = classifier.predict (x_train_multilabel)"
      ],
      "execution_count": 62,
      "outputs": []
    },
    {
      "cell_type": "code",
      "metadata": {
        "colab": {
          "base_uri": "https://localhost:8080/"
        },
        "id": "I3gR1j_L5p8W",
        "outputId": "9bc1be76-7119-4649-a532-caa0ebc0572b"
      },
      "source": [
        "print(predictions.toarray())"
      ],
      "execution_count": 63,
      "outputs": [
        {
          "output_type": "stream",
          "name": "stdout",
          "text": [
            "[[0 0 0 ... 0 1 0]\n",
            " [0 0 0 ... 0 0 0]\n",
            " [0 0 0 ... 0 0 0]\n",
            " ...\n",
            " [0 0 0 ... 0 0 0]\n",
            " [0 0 0 ... 0 0 0]\n",
            " [0 1 1 ... 0 0 1]]\n"
          ]
        }
      ]
    },
    {
      "cell_type": "code",
      "metadata": {
        "id": "EFnVkvaZ5w6r"
      },
      "source": [
        "y_true = multilabel_y_test.toarray()\n",
        "y_logits = predictions.toarray()"
      ],
      "execution_count": 64,
      "outputs": []
    },
    {
      "cell_type": "code",
      "metadata": {
        "id": "PcHCDGpf55Y6"
      },
      "source": [
        "def result_check(x, y):\n",
        "     count = 0\n",
        "     for i in range(len(x)):\n",
        "         if x[i] == y[i]:\n",
        "             count += 1\n",
        "     result = count / len(x)\n",
        "     return result"
      ],
      "execution_count": 65,
      "outputs": []
    },
    {
      "cell_type": "code",
      "metadata": {
        "colab": {
          "base_uri": "https://localhost:8080/"
        },
        "id": "giuzAe_Z59mw",
        "outputId": "7fa5b6ba-1667-4cdd-f478-df5cc7b56ffe"
      },
      "source": [
        "print(result_check(y_true[2],y_logits[2]))"
      ],
      "execution_count": 66,
      "outputs": [
        {
          "output_type": "stream",
          "name": "stdout",
          "text": [
            "0.75\n"
          ]
        }
      ]
    },
    {
      "cell_type": "code",
      "metadata": {
        "id": "OgsUnFGj7Oal"
      },
      "source": [
        "def subset_accuracy(y_true,y_predict,threshold):\n",
        "  count = 0\n",
        "  for j in range(len(y_true)):\n",
        "    if result_check(y_true[j] , y_predict[j]) >= threshold:\n",
        "      count = count + 1\n",
        "  accuracy = count / len(y_true)\n",
        "  return accuracy\n",
        "\n"
      ],
      "execution_count": 67,
      "outputs": []
    },
    {
      "cell_type": "code",
      "metadata": {
        "colab": {
          "base_uri": "https://localhost:8080/"
        },
        "id": "sZdoeClx7AC-",
        "outputId": "d5b91ef8-a665-4da5-c600-2b0b3d6b1f79"
      },
      "source": [
        "threshold_list = [1,.9,.8,.7,.6,.5]\n",
        "for i in threshold_list:\n",
        "  print(f'for threshold {i} accuracy is = ',subset_accuracy(y_true,y_logits,threshold=i))"
      ],
      "execution_count": 68,
      "outputs": [
        {
          "output_type": "stream",
          "name": "stdout",
          "text": [
            "for threshold 1 accuracy is =  0.1349206349206349\n",
            "for threshold 0.9 accuracy is =  0.49007936507936506\n",
            "for threshold 0.8 accuracy is =  0.8035714285714286\n",
            "for threshold 0.7 accuracy is =  0.9484126984126984\n",
            "for threshold 0.6 accuracy is =  0.9880952380952381\n",
            "for threshold 0.5 accuracy is =  1.0\n"
          ]
        }
      ]
    },
    {
      "cell_type": "code",
      "metadata": {
        "id": "Fxd_9f8x7I7C"
      },
      "source": [
        ""
      ],
      "execution_count": 68,
      "outputs": []
    },
    {
      "cell_type": "code",
      "metadata": {
        "colab": {
          "base_uri": "https://localhost:8080/"
        },
        "id": "1DxPCLIq6DMH",
        "outputId": "de49b6e5-5e75-4908-d914-51136f5e5839"
      },
      "source": [
        "import sklearn.metrics as metrics\n",
        "from sklearn.metrics import precision_score\n",
        "from sklearn.metrics import recall_score\n",
        "from sklearn.metrics import f1_score\n",
        "print(\"train Accuracy :\",metrics.accuracy_score(multilabel_y_train, predictions_train))\n",
        "print(\"test Accuracy :\",metrics.accuracy_score(multilabel_y_test, predictions))\n",
        "print(\"Hamming loss \",metrics.hamming_loss(multilabel_y_test,predictions))\n",
        "\n",
        "\n",
        "precision = precision_score(multilabel_y_test, predictions, average='micro')\n",
        "recall = recall_score(multilabel_y_test, predictions, average='micro')\n",
        "f1 = f1_score(multilabel_y_test, predictions, average='micro')\n",
        " \n",
        "print(\"Micro-average quality numbers\")\n",
        "print(\"Precision: {:.4f}, Recall: {:.4f}, F1-measure: {:.4f}\".format(precision, recall, f1))\n",
        "\n",
        "precision = precision_score(multilabel_y_test, predictions, average='macro')\n",
        "recall = recall_score(multilabel_y_test, predictions, average='macro')\n",
        "f1 = f1_score(multilabel_y_test, predictions, average='macro')\n",
        " \n",
        "print(\"Macro-average quality numbers\")\n",
        "print(\"Precision: {:.4f}, Recall: {:.4f}, F1-measure: {:.4f}\".format(precision, recall, f1))"
      ],
      "execution_count": 69,
      "outputs": [
        {
          "output_type": "stream",
          "name": "stdout",
          "text": [
            "train Accuracy : 1.0\n",
            "test Accuracy : 0.1349206349206349\n",
            "Hamming loss  0.13640873015873015\n",
            "Micro-average quality numbers\n",
            "Precision: 0.6539, Recall: 0.3323, F1-measure: 0.4407\n",
            "Macro-average quality numbers\n",
            "Precision: 0.5864, Recall: 0.2622, F1-measure: 0.3260\n"
          ]
        }
      ]
    },
    {
      "cell_type": "code",
      "metadata": {
        "id": "Lh38VY_N6O3n"
      },
      "source": [
        ""
      ],
      "execution_count": 69,
      "outputs": []
    },
    {
      "cell_type": "code",
      "metadata": {
        "id": "4EETx13b7nGO"
      },
      "source": [
        "classifier = OneVsRestClassifier(MultinomialNB())\n",
        "classifier.fit(x_train_multilabel,multilabel_y_train )\n",
        "predictions = classifier.predict (x_test_multilabel)\n",
        "predictions_train = classifier.predict (x_train_multilabel)"
      ],
      "execution_count": 70,
      "outputs": []
    },
    {
      "cell_type": "code",
      "metadata": {
        "colab": {
          "base_uri": "https://localhost:8080/"
        },
        "id": "wUjuorrL7nGQ",
        "outputId": "420f352b-d1c1-494c-ed0d-f8d122642afa"
      },
      "source": [
        "print(predictions.toarray())"
      ],
      "execution_count": 71,
      "outputs": [
        {
          "output_type": "stream",
          "name": "stdout",
          "text": [
            "[[0 0 0 ... 0 0 0]\n",
            " [0 0 0 ... 0 0 0]\n",
            " [0 0 0 ... 0 0 0]\n",
            " ...\n",
            " [0 0 0 ... 0 0 0]\n",
            " [0 0 0 ... 0 0 0]\n",
            " [0 0 0 ... 0 0 0]]\n"
          ]
        }
      ]
    },
    {
      "cell_type": "code",
      "metadata": {
        "id": "Gw-2bM2A7nGR"
      },
      "source": [
        "y_true = multilabel_y_test.toarray()\n",
        "y_logits = predictions.toarray()"
      ],
      "execution_count": 72,
      "outputs": []
    },
    {
      "cell_type": "code",
      "metadata": {
        "id": "O0XtRYxK7nGS"
      },
      "source": [
        "def result_check(x, y):\n",
        "     count = 0\n",
        "     for i in range(len(x)):\n",
        "         if x[i] == y[i]:\n",
        "             count += 1\n",
        "     result = count / len(x)\n",
        "     return result"
      ],
      "execution_count": 73,
      "outputs": []
    },
    {
      "cell_type": "code",
      "metadata": {
        "colab": {
          "base_uri": "https://localhost:8080/"
        },
        "id": "yhIxCIuN7nGT",
        "outputId": "cd7f4826-8bcb-42c9-a3cc-9f3dd2599cde"
      },
      "source": [
        "print(result_check(y_true[3],y_logits[3]))"
      ],
      "execution_count": 80,
      "outputs": [
        {
          "output_type": "stream",
          "name": "stdout",
          "text": [
            "0.8333333333333334\n"
          ]
        }
      ]
    },
    {
      "cell_type": "code",
      "metadata": {
        "id": "w4JMB5Q07nGV"
      },
      "source": [
        "def subset_accuracy(y_true,y_predict,threshold):\n",
        "  count = 0\n",
        "  for j in range(len(y_true)):\n",
        "    if result_check(y_true[j] , y_predict[j]) >= threshold:\n",
        "      count = count + 1\n",
        "  accuracy = count / len(y_true)\n",
        "  return accuracy\n",
        "\n"
      ],
      "execution_count": 75,
      "outputs": []
    },
    {
      "cell_type": "code",
      "metadata": {
        "id": "f8Js3Qkl8m6G",
        "outputId": "d3b87dc5-82cb-411f-e9ee-7fff01e212d0",
        "colab": {
          "base_uri": "https://localhost:8080/",
          "height": 163
        }
      },
      "source": [
        "print(subset_accuracy(y_true[3],y_logits[3],threshold))"
      ],
      "execution_count": 82,
      "outputs": [
        {
          "output_type": "error",
          "ename": "NameError",
          "evalue": "ignored",
          "traceback": [
            "\u001b[0;31m---------------------------------------------------------------------------\u001b[0m",
            "\u001b[0;31mNameError\u001b[0m                                 Traceback (most recent call last)",
            "\u001b[0;32m<ipython-input-82-e1b2fbfd17ff>\u001b[0m in \u001b[0;36m<module>\u001b[0;34m()\u001b[0m\n\u001b[0;32m----> 1\u001b[0;31m \u001b[0mprint\u001b[0m\u001b[0;34m(\u001b[0m\u001b[0msubset_accuracy\u001b[0m\u001b[0;34m(\u001b[0m\u001b[0my_true\u001b[0m\u001b[0;34m[\u001b[0m\u001b[0;36m3\u001b[0m\u001b[0;34m]\u001b[0m\u001b[0;34m,\u001b[0m\u001b[0my_logits\u001b[0m\u001b[0;34m[\u001b[0m\u001b[0;36m3\u001b[0m\u001b[0;34m]\u001b[0m\u001b[0;34m,\u001b[0m\u001b[0mthreshold\u001b[0m\u001b[0;34m)\u001b[0m\u001b[0;34m)\u001b[0m\u001b[0;34m\u001b[0m\u001b[0;34m\u001b[0m\u001b[0m\n\u001b[0m",
            "\u001b[0;31mNameError\u001b[0m: name 'threshold' is not defined"
          ]
        }
      ]
    },
    {
      "cell_type": "code",
      "metadata": {
        "colab": {
          "base_uri": "https://localhost:8080/"
        },
        "id": "2ieLZynO7nGW",
        "outputId": "823b0823-2759-4096-a9ee-07ce4d49397a"
      },
      "source": [
        "threshold_list = [1,.9,.8,.7,.6,.5]\n",
        "for i in threshold_list:\n",
        "  print(f'for threshold {i} accuracy is = ',subset_accuracy(y_true,y_logits,threshold=i))"
      ],
      "execution_count": 76,
      "outputs": [
        {
          "output_type": "stream",
          "name": "stdout",
          "text": [
            "for threshold 1 accuracy is =  0.0\n",
            "for threshold 0.9 accuracy is =  0.36904761904761907\n",
            "for threshold 0.8 accuracy is =  0.7579365079365079\n",
            "for threshold 0.7 accuracy is =  0.9404761904761905\n",
            "for threshold 0.6 accuracy is =  0.9920634920634921\n",
            "for threshold 0.5 accuracy is =  1.0\n"
          ]
        }
      ]
    },
    {
      "cell_type": "code",
      "metadata": {
        "colab": {
          "base_uri": "https://localhost:8080/"
        },
        "id": "tn3m1XK67nGX",
        "outputId": "cc4b23dd-3f68-4152-b0b9-dc63819ffc1e"
      },
      "source": [
        "\n",
        "import sklearn.metrics as metrics\n",
        "from sklearn.metrics import precision_score\n",
        "from sklearn.metrics import recall_score\n",
        "from sklearn.metrics import f1_score\n",
        "print(\"train Accuracy :\",metrics.accuracy_score(multilabel_y_train, predictions_train))\n",
        "print(\"test Accuracy :\",metrics.accuracy_score(multilabel_y_test, predictions))\n",
        "print(\"Hamming loss \",metrics.hamming_loss(multilabel_y_test,predictions))\n",
        "\n",
        "\n",
        "precision = precision_score(multilabel_y_test, predictions, average='micro')\n",
        "recall = recall_score(multilabel_y_test, predictions, average='micro')\n",
        "f1 = f1_score(multilabel_y_test, predictions, average='micro')\n",
        " \n",
        "print(\"Micro-average quality numbers\")\n",
        "print(\"Precision: {:.4f}, Recall: {:.4f}, F1-measure: {:.4f}\".format(precision, recall, f1))\n",
        "\n",
        "precision = precision_score(multilabel_y_test, predictions, average='macro')\n",
        "recall = recall_score(multilabel_y_test, predictions, average='macro')\n",
        "f1 = f1_score(multilabel_y_test, predictions, average='macro')\n",
        " \n",
        "print(\"Macro-average quality numbers\")\n",
        "print(\"Precision: {:.4f}, Recall: {:.4f}, F1-measure: {:.4f}\".format(precision, recall, f1))"
      ],
      "execution_count": 77,
      "outputs": [
        {
          "output_type": "stream",
          "name": "stdout",
          "text": [
            "train Accuracy : 0.0006666666666666666\n",
            "test Accuracy : 0.0\n",
            "Hamming loss  0.16170634920634921\n",
            "Micro-average quality numbers\n",
            "Precision: 0.0000, Recall: 0.0000, F1-measure: 0.0000\n",
            "Macro-average quality numbers\n",
            "Precision: 0.0000, Recall: 0.0000, F1-measure: 0.0000\n"
          ]
        }
      ]
    },
    {
      "cell_type": "code",
      "metadata": {
        "id": "QOU4erpw70iR"
      },
      "source": [
        ""
      ],
      "execution_count": null,
      "outputs": []
    }
  ]
}