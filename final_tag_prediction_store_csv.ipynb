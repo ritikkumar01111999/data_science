{
  "nbformat": 4,
  "nbformat_minor": 0,
  "metadata": {
    "colab": {
      "name": "final tag prediction.ipynb",
      "provenance": [],
      "collapsed_sections": [],
      "include_colab_link": true
    },
    "kernelspec": {
      "display_name": "Python 3",
      "name": "python3"
    },
    "language_info": {
      "name": "python"
    }
  },
  "cells": [
    {
      "cell_type": "markdown",
      "metadata": {
        "id": "view-in-github",
        "colab_type": "text"
      },
      "source": [
        "<a href=\"https://colab.research.google.com/github/ritikkumar01111999/data_science/blob/main/final_tag_prediction_store_csv.ipynb\" target=\"_parent\"><img src=\"https://colab.research.google.com/assets/colab-badge.svg\" alt=\"Open In Colab\"/></a>"
      ]
    },
    {
      "cell_type": "code",
      "metadata": {
        "id": "E7dOe_Ng2-ii"
      },
      "source": [
        ""
      ],
      "execution_count": null,
      "outputs": []
    },
    {
      "cell_type": "code",
      "metadata": {
        "id": "cELTpqtYu46K"
      },
      "source": [
        "import pandas as pd\n",
        "import numpy as np\n",
        "\n",
        "\n",
        "import matplotlib.pyplot as plt\n",
        "import seaborn as sns\n",
        "\n",
        "import warnings\n",
        "\n",
        "import pickle\n",
        "import time\n",
        "\n",
        "import re\n",
        "from bs4 import BeautifulSoup\n",
        "import nltk\n",
        "from nltk.tokenize import ToktokTokenizer\n",
        "from nltk.stem.wordnet import WordNetLemmatizer\n",
        "from nltk.corpus import stopwords\n",
        "from string import punctuation\n",
        "\n",
        "from sklearn import metrics\n",
        "from sklearn.metrics import f1_score,precision_score,recall_score\n",
        "from sklearn.model_selection import GridSearchCV\n",
        "from sklearn.svm import SVC\n",
        "from sklearn.feature_extraction.text import CountVectorizer\n",
        "from sklearn.metrics import accuracy_score\n",
        "from sklearn.metrics import classification_report\n",
        "from sklearn.feature_extraction.text import CountVectorizer\n",
        "from sklearn.feature_extraction.text import TfidfVectorizer\n",
        "from sklearn.preprocessing import MultiLabelBinarizer\n",
        "from sklearn.model_selection import train_test_split\n",
        "from sklearn.model_selection import learning_curve\n",
        "from sklearn.dummy import DummyClassifier\n",
        "from sklearn.naive_bayes import MultinomialNB\n",
        "from sklearn.linear_model import SGDClassifier\n",
        "from sklearn.linear_model import LogisticRegression\n",
        "from sklearn.multiclass import OneVsRestClassifier\n",
        "from sklearn.svm import LinearSVC\n",
        "from sklearn.linear_model import Perceptron\n",
        "from sklearn.linear_model import PassiveAggressiveClassifier\n",
        "from sklearn.neural_network import MLPClassifier\n",
        "from sklearn.ensemble import RandomForestClassifier\n",
        "from sklearn import model_selection\n",
        "from sklearn.metrics import confusion_matrix\n",
        "from sklearn.metrics import hamming_loss\n",
        "from sklearn.model_selection import train_test_split\n",
        "\n",
        "warnings.filterwarnings(\"ignore\")"
      ],
      "execution_count": null,
      "outputs": []
    },
    {
      "cell_type": "markdown",
      "metadata": {
        "id": "bJPg0KIMvPbI"
      },
      "source": [
        "**importing file**"
      ]
    },
    {
      "cell_type": "code",
      "metadata": {
        "colab": {
          "base_uri": "https://localhost:8080/"
        },
        "id": "F6adfkwDvG2v",
        "outputId": "ce8c8788-d609-4a20-c3be-3920b024a89f"
      },
      "source": [
        "from google.colab import drive\n",
        "drive.mount('/content/drive')"
      ],
      "execution_count": null,
      "outputs": [
        {
          "output_type": "stream",
          "name": "stdout",
          "text": [
            "Mounted at /content/drive\n"
          ]
        }
      ]
    },
    {
      "cell_type": "code",
      "metadata": {
        "id": "Sso5SMlqvJ5b"
      },
      "source": [
        "data = pd.read_csv(\"/content/drive/MyDrive/tag_recommendation/data.csv\")"
      ],
      "execution_count": null,
      "outputs": []
    },
    {
      "cell_type": "markdown",
      "metadata": {
        "id": "SDEAxjjPvTpI"
      },
      "source": [
        "**Data Cleaning**"
      ]
    },
    {
      "cell_type": "code",
      "metadata": {
        "colab": {
          "base_uri": "https://localhost:8080/"
        },
        "id": "wafkBt8hvZnw",
        "outputId": "6e123f39-e23e-43d5-8cd6-169afebe3577"
      },
      "source": [
        "# load stop words\n",
        "# import nltk\n",
        "nltk.download('stopwords')\n",
        "nltk.download('wordnet')\n",
        "stop_word = stopwords.words('english')\n",
        "from nltk.corpus import stopwords\n",
        "stop = stopwords.words('english')"
      ],
      "execution_count": null,
      "outputs": [
        {
          "output_type": "stream",
          "name": "stdout",
          "text": [
            "[nltk_data] Downloading package stopwords to /root/nltk_data...\n",
            "[nltk_data]   Package stopwords is already up-to-date!\n",
            "[nltk_data] Downloading package wordnet to /root/nltk_data...\n",
            "[nltk_data]   Package wordnet is already up-to-date!\n"
          ]
        }
      ]
    },
    {
      "cell_type": "code",
      "metadata": {
        "id": "mpOsaEjyvicQ"
      },
      "source": [
        "def cleanig_data(dataset):\n",
        "  from nltk.corpus import stopwords\n",
        "  dataset.drop(columns=['Unnamed: 0'], inplace=True)\n",
        "  dataset = dataset.dropna()\n",
        "  # df['url'] = df['url'].str.lower()\n",
        "  dataset['description'] = dataset['description'].str.lower()\n",
        "  dataset['tags'] = dataset['tags'].str.lower()\n",
        "\n",
        "  def cleanHtml(sentence):\n",
        "    cleanr = re.compile('<.*?>')\n",
        "    cleantext = re.sub(cleanr, ' ', str(sentence))\n",
        "    return cleantext\n",
        "  def cleanPunc(sentence): #function to clean the word of any punctuation or special characters\n",
        "    cleaned = re.sub(r'[?|!|\\'|\"|#]',r'',sentence)\n",
        "    cleaned = re.sub(r'[.|,|)|(|\\|/]',r' ',cleaned)\n",
        "    cleaned = cleaned.strip()\n",
        "    cleaned = cleaned.replace(\"\\n\",\" \")\n",
        "    return cleaned\n",
        "  def keepAlpha(sentence):\n",
        "    alpha_sent = \"\"\n",
        "    for word in sentence.split():\n",
        "        alpha_word = re.sub('[^a-z A-Z]+', ' ', word)\n",
        "        alpha_sent += alpha_word\n",
        "        alpha_sent += \" \"\n",
        "    alpha_sent = alpha_sent.strip()\n",
        "    return alpha_sent\n",
        "  \n",
        "  token=ToktokTokenizer()\n",
        "  lemma=WordNetLemmatizer()\n",
        "\n",
        "  def lemitizeWords(text):\n",
        "    words=token.tokenize(text)\n",
        "    listLemma=[]\n",
        "    for w in words:\n",
        "        x=lemma.lemmatize(w, pos=\"v\")\n",
        "        listLemma.append(x)\n",
        "    return ' '.join(map(str, listLemma))\n",
        "  \n",
        "  # dataset['description'] = dataset['description'].str.lower()\n",
        "  dataset['description'] = dataset['description'].apply(cleanHtml)\n",
        "  dataset['description'] = dataset['description'].apply(cleanPunc)\n",
        "  dataset['description'] = dataset['description'].apply(keepAlpha)\n",
        "  \n",
        "  dataset['description'] = dataset['description'].apply(lambda x: ' '.join([word for word in x.split() if word not in (stop)]))\n",
        "  dataset['description'] = dataset['description'].apply(lambda x: lemitizeWords(x))\n",
        "  return dataset"
      ],
      "execution_count": null,
      "outputs": []
    },
    {
      "cell_type": "code",
      "metadata": {
        "id": "NAACZ0YXv18W"
      },
      "source": [
        "data_result = cleanig_data(data)"
      ],
      "execution_count": null,
      "outputs": []
    },
    {
      "cell_type": "markdown",
      "metadata": {
        "id": "GyaQoD4Yv6vh"
      },
      "source": [
        "**Tag Processing**"
      ]
    },
    {
      "cell_type": "code",
      "metadata": {
        "id": "UzzDKk86aajz"
      },
      "source": [
        "# split tags in space\n",
        "data_result['new_tags'] = data_result[\"tags\"].apply(lambda x: x.split())"
      ],
      "execution_count": null,
      "outputs": []
    },
    {
      "cell_type": "code",
      "metadata": {
        "id": "6aYMxhvkaaUb"
      },
      "source": [
        "# add all tags\n",
        "all_tags = [item for sublist in data_result['new_tags'].values for item in sublist]"
      ],
      "execution_count": null,
      "outputs": []
    },
    {
      "cell_type": "code",
      "metadata": {
        "id": "tjVjKWMRZaOb"
      },
      "source": [
        "cleaned_data = data_result.copy()"
      ],
      "execution_count": null,
      "outputs": []
    },
    {
      "cell_type": "code",
      "metadata": {
        "colab": {
          "base_uri": "https://localhost:8080/",
          "height": 306
        },
        "id": "xcvafWheemc8",
        "outputId": "0d5c2512-cd97-44da-cedb-8fb7c8cd8cfb"
      },
      "source": [
        "cleaned_data.head()"
      ],
      "execution_count": null,
      "outputs": [
        {
          "output_type": "execute_result",
          "data": {
            "text/html": [
              "<div>\n",
              "<style scoped>\n",
              "    .dataframe tbody tr th:only-of-type {\n",
              "        vertical-align: middle;\n",
              "    }\n",
              "\n",
              "    .dataframe tbody tr th {\n",
              "        vertical-align: top;\n",
              "    }\n",
              "\n",
              "    .dataframe thead th {\n",
              "        text-align: right;\n",
              "    }\n",
              "</style>\n",
              "<table border=\"1\" class=\"dataframe\">\n",
              "  <thead>\n",
              "    <tr style=\"text-align: right;\">\n",
              "      <th></th>\n",
              "      <th>tags</th>\n",
              "      <th>description</th>\n",
              "      <th>new_tags</th>\n",
              "    </tr>\n",
              "  </thead>\n",
              "  <tbody>\n",
              "    <tr>\n",
              "      <th>0</th>\n",
              "      <td>licence-needed supervising-job 5-plus-years-ex...</td>\n",
              "      <td>company employer midstream service provider on...</td>\n",
              "      <td>[licence-needed, supervising-job, 5-plus-years...</td>\n",
              "    </tr>\n",
              "    <tr>\n",
              "      <th>1</th>\n",
              "      <td>2-4-years-experience-needed salary full-time-job</td>\n",
              "      <td>icr staff accept resume industrial maintenance...</td>\n",
              "      <td>[2-4-years-experience-needed, salary, full-tim...</td>\n",
              "    </tr>\n",
              "    <tr>\n",
              "      <th>2</th>\n",
              "      <td>part-time-job</td>\n",
              "      <td>great position right person healthcareseeker c...</td>\n",
              "      <td>[part-time-job]</td>\n",
              "    </tr>\n",
              "    <tr>\n",
              "      <th>3</th>\n",
              "      <td>licence-needed</td>\n",
              "      <td>large multi specialty health center expand adu...</td>\n",
              "      <td>[licence-needed]</td>\n",
              "    </tr>\n",
              "    <tr>\n",
              "      <th>4</th>\n",
              "      <td>5-plus-years-experience-needed full-time-job b...</td>\n",
              "      <td>job purpose account director responsible manag...</td>\n",
              "      <td>[5-plus-years-experience-needed, full-time-job...</td>\n",
              "    </tr>\n",
              "  </tbody>\n",
              "</table>\n",
              "</div>"
            ],
            "text/plain": [
              "                                                tags  ...                                           new_tags\n",
              "0  licence-needed supervising-job 5-plus-years-ex...  ...  [licence-needed, supervising-job, 5-plus-years...\n",
              "1   2-4-years-experience-needed salary full-time-job  ...  [2-4-years-experience-needed, salary, full-tim...\n",
              "2                                      part-time-job  ...                                    [part-time-job]\n",
              "3                                     licence-needed  ...                                   [licence-needed]\n",
              "4  5-plus-years-experience-needed full-time-job b...  ...  [5-plus-years-experience-needed, full-time-job...\n",
              "\n",
              "[5 rows x 3 columns]"
            ]
          },
          "metadata": {},
          "execution_count": 26
        }
      ]
    },
    {
      "cell_type": "code",
      "metadata": {
        "colab": {
          "base_uri": "https://localhost:8080/"
        },
        "id": "ZC4z2xF6ezBF",
        "outputId": "d914a12b-11c1-4d2e-81c7-718aff27a960"
      },
      "source": [
        "cleaned_data.shape"
      ],
      "execution_count": null,
      "outputs": [
        {
          "output_type": "execute_result",
          "data": {
            "text/plain": [
              "(3504, 3)"
            ]
          },
          "metadata": {},
          "execution_count": 27
        }
      ]
    },
    {
      "cell_type": "markdown",
      "metadata": {
        "id": "epVBraKnwFDI"
      },
      "source": [
        "**train - test Split**"
      ]
    },
    {
      "cell_type": "code",
      "metadata": {
        "id": "NZAyZZPqjoN6"
      },
      "source": [
        "X = cleaned_data['description']\n",
        "y = cleaned_data['new_tags']"
      ],
      "execution_count": null,
      "outputs": []
    },
    {
      "cell_type": "code",
      "metadata": {
        "id": "qqb2_hAPdRqL"
      },
      "source": [
        ""
      ],
      "execution_count": null,
      "outputs": []
    },
    {
      "cell_type": "markdown",
      "metadata": {
        "id": "oRO09AQJwebR"
      },
      "source": [
        "**Encoding**"
      ]
    },
    {
      "cell_type": "code",
      "metadata": {
        "id": "LtukpzpOarVD"
      },
      "source": [
        "from sklearn.preprocessing import MultiLabelBinarizer"
      ],
      "execution_count": null,
      "outputs": []
    },
    {
      "cell_type": "code",
      "metadata": {
        "id": "Da6bb2fDau2K"
      },
      "source": [
        "mulitlabel_binarizer = MultiLabelBinarizer()\n",
        "y_bin = mulitlabel_binarizer.fit_transform(y)"
      ],
      "execution_count": null,
      "outputs": []
    },
    {
      "cell_type": "code",
      "metadata": {
        "id": "tf2Y653Gaxur"
      },
      "source": [
        "classes = mulitlabel_binarizer.classes_"
      ],
      "execution_count": null,
      "outputs": []
    },
    {
      "cell_type": "code",
      "metadata": {
        "colab": {
          "base_uri": "https://localhost:8080/"
        },
        "id": "mrxb72eha25W",
        "outputId": "9cc1ef4e-f45a-406f-be49-387633be04d6"
      },
      "source": [
        "classes"
      ],
      "execution_count": null,
      "outputs": [
        {
          "output_type": "execute_result",
          "data": {
            "text/plain": [
              "array(['1-year-experience-needed', '2-4-years-experience-needed',\n",
              "       '5-plus-years-experience-needed', 'associate-needed',\n",
              "       'bs-degree-needed', 'full-time-job', 'hourly-wage',\n",
              "       'licence-needed', 'ms-or-phd-needed', 'part-time-job', 'salary',\n",
              "       'supervising-job'], dtype=object)"
            ]
          },
          "metadata": {},
          "execution_count": 32
        }
      ]
    },
    {
      "cell_type": "code",
      "metadata": {
        "id": "LZ8HggtOwoW1"
      },
      "source": [
        "# all_tags= vectorizer_count.get_feature_names()"
      ],
      "execution_count": null,
      "outputs": []
    },
    {
      "cell_type": "code",
      "metadata": {
        "id": "dR66vsvJa-LP"
      },
      "source": [
        "vectorizer = TfidfVectorizer(analyzer = 'word',\n",
        "                                       min_df=0.0,\n",
        "                                       max_df = 1.0,\n",
        "                                       strip_accents = None,\n",
        "                                       encoding = 'utf-8', \n",
        "                                       preprocessor=None,\n",
        "                                       max_features=1000)\n",
        "\n",
        "multilabel_x_data = vectorizer.fit_transform(X)"
      ],
      "execution_count": null,
      "outputs": []
    },
    {
      "cell_type": "code",
      "metadata": {
        "id": "AUAjUx3nvQUV"
      },
      "source": [
        "X_train, X_test, y_train, y_test = train_test_split(multilabel_x_data, y_bin, test_size=0.3,random_state=123)"
      ],
      "execution_count": null,
      "outputs": []
    },
    {
      "cell_type": "code",
      "metadata": {
        "colab": {
          "base_uri": "https://localhost:8080/"
        },
        "id": "7UdQZMYmv7R2",
        "outputId": "323ed782-42b9-4098-8165-5fd27776a27d"
      },
      "source": [
        "print(\"Dimensions of train data X:\",X_train.shape, \"Y :\",y_train.shape)\n",
        "print(\"Dimensions of test data X:\",X_test.shape,\"Y:\",y_test.shape)"
      ],
      "execution_count": null,
      "outputs": [
        {
          "output_type": "stream",
          "name": "stdout",
          "text": [
            "Dimensions of train data X: (2452, 1000) Y : (2452, 12)\n",
            "Dimensions of test data X: (1052, 1000) Y: (1052, 12)\n"
          ]
        }
      ]
    },
    {
      "cell_type": "markdown",
      "metadata": {
        "id": "9_1Ut5szzfh6"
      },
      "source": [
        "**Training Model with logistic regression**"
      ]
    },
    {
      "cell_type": "code",
      "metadata": {
        "id": "zJclXbinzhdn"
      },
      "source": [
        "classifier = OneVsRestClassifier(SGDClassifier(loss='log', alpha=0.00001, penalty='l1'))\n",
        "classifier.fit(X_train,y_train )\n",
        "predictions = classifier.predict (X_test)\n",
        "predictions_train = classifier.predict (X_train)"
      ],
      "execution_count": null,
      "outputs": []
    },
    {
      "cell_type": "code",
      "metadata": {
        "id": "8-iUCxCR0xGX"
      },
      "source": [
        "y_true = y_test\n",
        "y_logits = predictions"
      ],
      "execution_count": null,
      "outputs": []
    },
    {
      "cell_type": "code",
      "metadata": {
        "id": "zdjGvWoh8QA4"
      },
      "source": [
        ""
      ],
      "execution_count": null,
      "outputs": []
    },
    {
      "cell_type": "code",
      "metadata": {
        "id": "3GRruPhV02ZF"
      },
      "source": [
        "def result_check(x, y):\n",
        "     count = 0\n",
        "     for i in range(len(x)):\n",
        "         if x[i] == y[i]:\n",
        "             count += 1\n",
        "     result = count / len(x)\n",
        "     return result"
      ],
      "execution_count": null,
      "outputs": []
    },
    {
      "cell_type": "code",
      "metadata": {
        "colab": {
          "base_uri": "https://localhost:8080/",
          "height": 222
        },
        "id": "YQrEHTho5vnf",
        "outputId": "f4bba6fe-b05b-46a1-ed0b-7143e80d4803"
      },
      "source": [
        "cleaned_data['description'][3000]"
      ],
      "execution_count": null,
      "outputs": [
        {
          "output_type": "execute_result",
          "data": {
            "application/vnd.google.colaboratory.intrinsic+json": {
              "type": "string"
            },
            "text/plain": [
              "'custom invitation design print company years solid performance seek offset press operator immediate need current pressman retire train right candidate experience would extremely beneficial must mechanically incline basic computer skills require must excellent visual color repeat ability job run short job volume moderate expect several color change typical day necessary minor maintenance equipment repair work contract knowledge thermography helpful necessary run single color ryobi envelope feeder head b dick duplicator thermography wide variety paper media biggest challenge position color match efficient must team player adaptable flexible detail orient ability follow write print instructions keep real physical demand job include lift stand day must able work minimal supervision train hours f overtime weekend need especially busy season november february rate pay base experience full benefit please submit cover letter indicate interest position resume'"
            ]
          },
          "metadata": {},
          "execution_count": 40
        }
      ]
    },
    {
      "cell_type": "code",
      "metadata": {
        "id": "akrFMgFi059U"
      },
      "source": [
        "def subset_accuracy(y_true,y_predict,threshold):\n",
        "  count = 0\n",
        "  for j in range(len(y_true)):\n",
        "    if result_check(y_true[j] , y_predict[j]) >= threshold:\n",
        "      count = count + 1\n",
        "  accuracy = count / len(y_true)\n",
        "  return accuracy\n"
      ],
      "execution_count": null,
      "outputs": []
    },
    {
      "cell_type": "code",
      "metadata": {
        "colab": {
          "base_uri": "https://localhost:8080/"
        },
        "id": "g-HQPLhV1Cp5",
        "outputId": "21fb82af-a39f-464f-8cf8-3858c0896534"
      },
      "source": [
        "threshold_list = [1,.9,.8,.7,.6,.5]\n",
        "for i in threshold_list:\n",
        "  print(f'for threshold {i} accuracy is = ',subset_accuracy(y_true,y_logits,threshold=i))"
      ],
      "execution_count": null,
      "outputs": [
        {
          "output_type": "stream",
          "name": "stdout",
          "text": [
            "for threshold 1 accuracy is =  0.1311787072243346\n",
            "for threshold 0.9 accuracy is =  0.3849809885931559\n",
            "for threshold 0.8 accuracy is =  0.6682509505703422\n",
            "for threshold 0.7 accuracy is =  0.8859315589353612\n",
            "for threshold 0.6 accuracy is =  0.967680608365019\n",
            "for threshold 0.5 accuracy is =  0.9980988593155894\n"
          ]
        }
      ]
    },
    {
      "cell_type": "code",
      "metadata": {
        "colab": {
          "base_uri": "https://localhost:8080/"
        },
        "id": "vP2vrgAA1Ivc",
        "outputId": "1a8b87d2-9320-4b71-db2e-346e4ecb402e"
      },
      "source": [
        "print(\"train Accuracy :\",metrics.accuracy_score(y_train, predictions_train))\n",
        "print(\"test Accuracy :\",metrics.accuracy_score(y_test, predictions))\n",
        "print(\"Hamming loss \",metrics.hamming_loss(y_test,predictions))\n",
        "\n",
        "\n",
        "precision = precision_score(y_test, predictions, average='micro')\n",
        "recall = recall_score(y_test, predictions, average='micro')\n",
        "f1 = f1_score(y_test, predictions, average='micro')\n",
        " \n",
        "print(\"Micro-average quality numbers\")\n",
        "print(\"Precision: {:.4f}, Recall: {:.4f}, F1-measure: {:.4f}\".format(precision, recall, f1))\n",
        "\n",
        "precision = precision_score(y_test, predictions, average='macro')\n",
        "recall = recall_score(y_test, predictions, average='macro')\n",
        "f1 = f1_score(y_test, predictions, average='macro')\n",
        " \n",
        "print(\"Macro-average quality numbers\")\n",
        "print(\"Precision: {:.4f}, Recall: {:.4f}, F1-measure: {:.4f}\".format(precision, recall, f1))"
      ],
      "execution_count": null,
      "outputs": [
        {
          "output_type": "stream",
          "name": "stdout",
          "text": [
            "train Accuracy : 0.9110929853181077\n",
            "test Accuracy : 0.1311787072243346\n",
            "Hamming loss  0.1644486692015209\n",
            "Micro-average quality numbers\n",
            "Precision: 0.4935, Recall: 0.5022, F1-measure: 0.4978\n",
            "Macro-average quality numbers\n",
            "Precision: 0.4786, Recall: 0.4417, F1-measure: 0.4481\n"
          ]
        }
      ]
    },
    {
      "cell_type": "markdown",
      "metadata": {
        "id": "DFMdYiN3FIlW"
      },
      "source": [
        "## saving model##"
      ]
    },
    {
      "cell_type": "code",
      "metadata": {
        "id": "jR0C3eDzbfnW"
      },
      "source": [
        "from sklearn.externals import joblib"
      ],
      "execution_count": null,
      "outputs": []
    },
    {
      "cell_type": "code",
      "metadata": {
        "colab": {
          "base_uri": "https://localhost:8080/"
        },
        "id": "Xe1Y7Ai4bfji",
        "outputId": "4ff51e86-c0d7-4e39-a4bf-197793abd53e"
      },
      "source": [
        "joblib.dump(classifier , 'model.pkl')\n",
        "joblib.dump(vectorizer , 'vectorizer.pkl')"
      ],
      "execution_count": null,
      "outputs": [
        {
          "output_type": "execute_result",
          "data": {
            "text/plain": [
              "['vectorizer.pkl']"
            ]
          },
          "metadata": {},
          "execution_count": 45
        }
      ]
    },
    {
      "cell_type": "markdown",
      "metadata": {
        "id": "y-M9JvOabpU-"
      },
      "source": [
        "**Loading Model**"
      ]
    },
    {
      "cell_type": "code",
      "metadata": {
        "id": "lWdVIxWZbobr"
      },
      "source": [
        "# to match index with class name\n",
        "def print_class(arr):\n",
        "  cls_list = []\n",
        "  for index, value in enumerate(arr):\n",
        "    if value == 1:\n",
        "      cls_list.append(classes[index])\n",
        "  return cls_list\n",
        "      # print(classes[index])   "
      ],
      "execution_count": null,
      "outputs": []
    },
    {
      "cell_type": "code",
      "metadata": {
        "id": "4LPk417Qbffv"
      },
      "source": [
        "vect = joblib.load('vectorizer.pkl')\n",
        "model = joblib.load('model.pkl')"
      ],
      "execution_count": null,
      "outputs": []
    },
    {
      "cell_type": "code",
      "metadata": {
        "id": "EWKI5F-sbfcI"
      },
      "source": [
        "testing = \"full time job for developer\""
      ],
      "execution_count": null,
      "outputs": []
    },
    {
      "cell_type": "code",
      "metadata": {
        "id": "y6g_LPbFb3jT"
      },
      "source": [
        "v = vect.transform([testing])\n",
        "p = model.predict(v)\n",
        "\n",
        "testing_result=print_class(p[0])"
      ],
      "execution_count": null,
      "outputs": []
    },
    {
      "cell_type": "markdown",
      "metadata": {
        "id": "6JQqu52Fchha"
      },
      "source": [
        "**Storing Result**"
      ]
    },
    {
      "cell_type": "code",
      "metadata": {
        "id": "SEVrJ6JBcNy2"
      },
      "source": [
        "\n",
        "import csv "
      ],
      "execution_count": null,
      "outputs": []
    },
    {
      "cell_type": "code",
      "metadata": {
        "id": "7SxeWhiIalnb"
      },
      "source": [
        "df = pd.DataFrame(columns=['Input','Prediction','true_result','similarity'])"
      ],
      "execution_count": null,
      "outputs": []
    },
    {
      "cell_type": "code",
      "metadata": {
        "id": "oXmlXYvax8K-"
      },
      "source": [
        "def simlr(testing_result,true):\n",
        "  count = 0\n",
        "  for i in true:\n",
        "    if i in testing_result:\n",
        "      count= count+1\n",
        "  return count/len(true)"
      ],
      "execution_count": null,
      "outputs": []
    },
    {
      "cell_type": "code",
      "metadata": {
        "id": "B9Jj-P3syDJD"
      },
      "source": [
        "sm = simlr(testing_result,true)"
      ],
      "execution_count": null,
      "outputs": []
    },
    {
      "cell_type": "code",
      "metadata": {
        "id": "fg5aV9ozkSom"
      },
      "source": [
        "d = {\n",
        "    \"Input\":[],\n",
        "     \"Prediction\":[],\n",
        "     \"true_result\":[],\n",
        "     \"similarity\":[],\n",
        "\n",
        "}"
      ],
      "execution_count": null,
      "outputs": []
    },
    {
      "cell_type": "code",
      "metadata": {
        "id": "61V0CLTRsHjy"
      },
      "source": [
        "for i in range(3465,3474):\n",
        "  testing = data['description'][i]\n",
        "\n",
        "  v = vect.transform([testing])\n",
        "  p = model.predict(v)\n",
        "  testing_result=print_class(p[0])\n",
        "\n",
        "  \n",
        "  true = data['tags'][i].split()\n",
        "\n",
        "  sm = simlr(testing_result,true)\n",
        "\n",
        "\n",
        "  d['Input'].append(testing)\n",
        "  d['Prediction'].append(testing_result)\n",
        "  d['true_result'].append(true)\n",
        "  d['similarity'].append(sm)"
      ],
      "execution_count": null,
      "outputs": []
    },
    {
      "cell_type": "code",
      "metadata": {
        "id": "v7VdjqOwtqIw"
      },
      "source": [
        "x = pd.DataFrame(d)"
      ],
      "execution_count": null,
      "outputs": []
    },
    {
      "cell_type": "code",
      "metadata": {
        "colab": {
          "base_uri": "https://localhost:8080/",
          "height": 708
        },
        "id": "drglsSWEkSjZ",
        "outputId": "3c81635e-e044-4b76-9dfc-dd5037a252ed"
      },
      "source": [
        "x"
      ],
      "execution_count": null,
      "outputs": [
        {
          "output_type": "execute_result",
          "data": {
            "text/html": [
              "<div>\n",
              "<style scoped>\n",
              "    .dataframe tbody tr th:only-of-type {\n",
              "        vertical-align: middle;\n",
              "    }\n",
              "\n",
              "    .dataframe tbody tr th {\n",
              "        vertical-align: top;\n",
              "    }\n",
              "\n",
              "    .dataframe thead th {\n",
              "        text-align: right;\n",
              "    }\n",
              "</style>\n",
              "<table border=\"1\" class=\"dataframe\">\n",
              "  <thead>\n",
              "    <tr style=\"text-align: right;\">\n",
              "      <th></th>\n",
              "      <th>Input</th>\n",
              "      <th>Prediction</th>\n",
              "      <th>true_result</th>\n",
              "      <th>similarity</th>\n",
              "    </tr>\n",
              "  </thead>\n",
              "  <tbody>\n",
              "    <tr>\n",
              "      <th>0</th>\n",
              "      <td>Custom invitation design and print company wit...</td>\n",
              "      <td>[2-4-years-experience-needed]</td>\n",
              "      <td>[full-time-job]</td>\n",
              "      <td>0.000000</td>\n",
              "    </tr>\n",
              "    <tr>\n",
              "      <th>1</th>\n",
              "      <td>The Buckeye Hall of Fame Grill is seeking a ta...</td>\n",
              "      <td>[5-plus-years-experience-needed, bs-degree-nee...</td>\n",
              "      <td>[5-plus-years-experience-needed, bs-degree-nee...</td>\n",
              "      <td>1.000000</td>\n",
              "    </tr>\n",
              "    <tr>\n",
              "      <th>2</th>\n",
              "      <td>Columbus Hospitality Management is looking for...</td>\n",
              "      <td>[salary, supervising-job]</td>\n",
              "      <td>[salary, full-time-job]</td>\n",
              "      <td>0.500000</td>\n",
              "    </tr>\n",
              "    <tr>\n",
              "      <th>3</th>\n",
              "      <td>Experienced restaurant servers needed immediat...</td>\n",
              "      <td>[hourly-wage]</td>\n",
              "      <td>[hourly-wage]</td>\n",
              "      <td>1.000000</td>\n",
              "    </tr>\n",
              "    <tr>\n",
              "      <th>4</th>\n",
              "      <td>Reports To: General Manager Supervises: Leasin...</td>\n",
              "      <td>[5-plus-years-experience-needed, supervising-job]</td>\n",
              "      <td>[supervising-job]</td>\n",
              "      <td>1.000000</td>\n",
              "    </tr>\n",
              "    <tr>\n",
              "      <th>...</th>\n",
              "      <td>...</td>\n",
              "      <td>...</td>\n",
              "      <td>...</td>\n",
              "      <td>...</td>\n",
              "    </tr>\n",
              "    <tr>\n",
              "      <th>140</th>\n",
              "      <td>A partially paralyzed man in Madison requires ...</td>\n",
              "      <td>[licence-needed, part-time-job, salary]</td>\n",
              "      <td>[part-time-job]</td>\n",
              "      <td>1.000000</td>\n",
              "    </tr>\n",
              "    <tr>\n",
              "      <th>141</th>\n",
              "      <td>We are looking for a PT Driver for our Fixed R...</td>\n",
              "      <td>[full-time-job, hourly-wage, part-time-job]</td>\n",
              "      <td>[hourly-wage, licence-needed, part-time-job]</td>\n",
              "      <td>0.666667</td>\n",
              "    </tr>\n",
              "    <tr>\n",
              "      <th>142</th>\n",
              "      <td>Registered Nurses needed for positions in Dall...</td>\n",
              "      <td>[2-4-years-experience-needed, licence-needed]</td>\n",
              "      <td>[licence-needed]</td>\n",
              "      <td>1.000000</td>\n",
              "    </tr>\n",
              "    <tr>\n",
              "      <th>143</th>\n",
              "      <td>Registered Nurses needed for *acute care* posi...</td>\n",
              "      <td>[2-4-years-experience-needed, licence-needed]</td>\n",
              "      <td>[2-4-years-experience-needed, licence-needed, ...</td>\n",
              "      <td>0.666667</td>\n",
              "    </tr>\n",
              "    <tr>\n",
              "      <th>144</th>\n",
              "      <td>Client operates a suite of rich gas and natura...</td>\n",
              "      <td>[supervising-job]</td>\n",
              "      <td>[full-time-job, 1-year-experience-needed]</td>\n",
              "      <td>0.000000</td>\n",
              "    </tr>\n",
              "  </tbody>\n",
              "</table>\n",
              "<p>145 rows × 4 columns</p>\n",
              "</div>"
            ],
            "text/plain": [
              "                                                 Input  ... similarity\n",
              "0    Custom invitation design and print company wit...  ...   0.000000\n",
              "1    The Buckeye Hall of Fame Grill is seeking a ta...  ...   1.000000\n",
              "2    Columbus Hospitality Management is looking for...  ...   0.500000\n",
              "3    Experienced restaurant servers needed immediat...  ...   1.000000\n",
              "4    Reports To: General Manager Supervises: Leasin...  ...   1.000000\n",
              "..                                                 ...  ...        ...\n",
              "140  A partially paralyzed man in Madison requires ...  ...   1.000000\n",
              "141  We are looking for a PT Driver for our Fixed R...  ...   0.666667\n",
              "142  Registered Nurses needed for positions in Dall...  ...   1.000000\n",
              "143  Registered Nurses needed for *acute care* posi...  ...   0.666667\n",
              "144  Client operates a suite of rich gas and natura...  ...   0.000000\n",
              "\n",
              "[145 rows x 4 columns]"
            ]
          },
          "metadata": {},
          "execution_count": 302
        }
      ]
    },
    {
      "cell_type": "code",
      "metadata": {
        "id": "NNgO8-NSmvlQ"
      },
      "source": [
        "x.to_csv('result.csv',index=False)"
      ],
      "execution_count": null,
      "outputs": []
    }
  ]
}